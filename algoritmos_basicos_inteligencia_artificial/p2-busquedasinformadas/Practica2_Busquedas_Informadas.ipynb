{
 "cells": [
  {
   "cell_type": "markdown",
   "id": "7b82b496",
   "metadata": {},
   "source": [
    "# Práctica 2: Búsquedas en espacios de estados. Búsquedas Informadas.\n",
    "* versión 1.0 (18 Febrero 25)"
   ]
  },
  {
   "cell_type": "markdown",
   "id": "79c2ecc7",
   "metadata": {},
   "source": [
    "<center><h3>\n",
    "    Asier Acuña Casal\n",
    "</h3></center>"
   ]
  },
  {
   "cell_type": "markdown",
   "id": "598f51aa",
   "metadata": {},
   "source": [
    "## Instrucciones"
   ]
  },
  {
   "cell_type": "markdown",
   "id": "afad4a70",
   "metadata": {},
   "source": [
    "Esto es **Jupyter Notebook**, un documento que integra código Python en un archivo Markdown.\n",
    "Esto nos permite ir ejecutando celdas de código poco a poco, así como generar automáticamente un informe bien formateado de la práctica.\n",
    "\n",
    "Puedes añadir una celda con el botón **\"Insert\"** de la barra de herramentas, y cambiar su tipo con **\"Cell > Cell Type\"**\n",
    "\n",
    "Para ejecutar una celda de código, la seleccionaremos y pulsaremos el botón **\"▶ Run\"** de la barra de herramentas.\n",
    "Para pasar el documento a HTML, seleccionaremos **\"File > Download as > HTML (.html)\"**\n",
    "\n",
    "Sigue este guión hasta el final. Ejecuta el código proporcionado paso a paso comprendiendo lo que estás haciendo y reflexionando sobre los resultados. Habrá preguntas intercaladas a lo largo del guión, responde a todas ellas en la sección reservada para ese fin: **\"Respuestas a los cuestionarios\"**. Por favor, no modifiques ninguna linea de código excepto cuando se te pida explícitamente.\n",
    "\n",
    "No olvides insertar tu **nombre y apellidos** en la celda superior.\n",
    "\n",
    "Recuerda que esta práctica está planificada para **2 sesiones** (Semanas 4 y 5) y a lo largo de todas ellas se discutirán grupalmente parte de las preguntas y problemas. "
   ]
  },
  {
   "cell_type": "markdown",
   "id": "5d5326d6",
   "metadata": {},
   "source": [
    "## Entrega de la práctica"
   ]
  },
  {
   "cell_type": "markdown",
   "id": "ff17c95b",
   "metadata": {},
   "source": [
    "La fecha límite de entrega será la indicada en el Campus Virtual. La entrega consistirá de un único archivo comprimido con nombre `APELLIDOS_NOMBRE_Busquedas_Informadas.zip` que contenga los seguientes ficheros:\n",
    "\n",
    " * `APELLIDOS_NOMBRE_Busqueda_Informada.html`: Archivo HTML fruto de la exportación del presente Notebook, con las preguntas respondidas al final del documento.\n",
    " * `APELLIDOS_NOMBRE_Busqueda_Informada.ipynb`: Archivo fuente Jupyter Notebook.\n",
    " * Resto de archivos de códigos y datos que sean necesario para reejecutar tu práctica.\n"
   ]
  },
  {
   "cell_type": "markdown",
   "id": "ec7b9661-37a5-41d0-89b8-680fa9da9a77",
   "metadata": {},
   "source": [
    "# Búsquedas informadas"
   ]
  },
  {
   "cell_type": "markdown",
   "id": "92492d42-ed0e-459c-b977-ab292ef0f1d2",
   "metadata": {},
   "source": [
    "El [capítulo 4](http://aima.cs.berkeley.edu/4th-ed/pdfs/newchap04.pdf) del libro de referencia AIMA cubre el tema de las búsquedas informadas. Además de haber visto los algoritmos de búsqueda ciega en espacios de estados, también habéis visto algoritmos de búsqueda heurística, que en contraposición a los algoritmos de búsqueda ciega, incorporan una función heurística y de evaluación que permite realizar una búsqueda más guiada (por tanto, menos ciega) teniendo en cuenta información potencialmente útil. A la búsqueda heurística se le conoce también como búsqueda informada, por incorporar esa información de guiado adicional en su función. \n",
    "\n",
    "\n",
    "Como cabría esperar, un buen número de estrategias informadas también vienen implementadas en AIMA-Python. Lo interesante de disponer de la implementación de varios algoritmos en una librería/módulo es que podemos disponer de ellos sin demasiado esfuerzo, pudiendo probarlos y realizar comparativas para estudiar su desempeño.\n"
   ]
  },
  {
   "cell_type": "markdown",
   "id": "be08dd5d-1931-48fa-9395-be5ef77a91b6",
   "metadata": {},
   "source": [
    "En esta práctica vamos a profundizar en la implementación de estrategias de búsqueda informadas. De forma similar a como hiciste en la anterior práctica, que se limitaba a las estrategias a ciegas, puedes importar los módulos de la práctica de la forma habitual."
   ]
  },
  {
   "cell_type": "code",
   "execution_count": null,
   "id": "10bee327",
   "metadata": {},
   "outputs": [],
   "source": [
    "# contiene algoritmos de búsqueda implementado en AIMA\n",
    "from search_mod import *\n",
    "\n",
    "# algunas funciones auxiliares\n",
    "from helpers_mod import *"
   ]
  },
  {
   "cell_type": "markdown",
   "id": "b97aabd4",
   "metadata": {},
   "source": [
    "Vamos a definir de nuevo la clase EightPuzzle como subclase de Problem como ya se hizo en la práctica anterior. Sin embargo, en esta ocasión, fíjate que el método h sí que tiene implementación."
   ]
  },
  {
   "cell_type": "code",
   "execution_count": null,
   "id": "0d2548d2",
   "metadata": {},
   "outputs": [],
   "source": [
    "class EightPuzzle(Problem):\n",
    "    \"\"\" The problem of sliding tiles numbered from 1 to 8 on a 3x3 board,\n",
    "    where one of the squares is a blank, trying to reach a goal configuration.\n",
    "    A board state is represented as a tuple of length 9, where the element at index i \n",
    "    represents the tile number at index i, or 0 if for the empty square, e.g. the goal:\n",
    "        1 2 3\n",
    "        4 5 6 ==> (1, 2, 3, 4, 5, 6, 7, 8, 0)\n",
    "        7 8 _\n",
    "    \"\"\"\n",
    "\n",
    "    def __init__(self, initial, goal=(1, 2, 3, 4, 5, 6, 7, 8, 0)):\n",
    "        assert inversions(initial) % 2 == inversions(goal) % 2 # Parity check\n",
    "        self.initial, self.goal = initial, goal\n",
    "    \n",
    "    def actions(self, state):\n",
    "        \"\"\"The indexes of the squares that the blank can move to.\"\"\"\n",
    "        moves = ((1, 3),    (0, 2, 4),    (1, 5),\n",
    "                 (0, 4, 6), (1, 3, 5, 7), (2, 4, 8),\n",
    "                 (3, 7),    (4, 6, 8),    (7, 5))\n",
    "        blank = state.index(0)\n",
    "        return moves[blank]\n",
    "    \n",
    "    def result(self, state, action):\n",
    "        \"\"\"Swap the blank with the square numbered `action`.\"\"\"\n",
    "        s = list(state)\n",
    "        blank = state.index(0)\n",
    "        s[action], s[blank] = s[blank], s[action]\n",
    "        return tuple(s)\n",
    "    \n",
    "    def h1(self, node):\n",
    "        \"\"\"The misplaced tiles heuristic.\"\"\"\n",
    "        return hamming_distance(node.state, self.goal)\n",
    "    \n",
    "    def h2(self, node):\n",
    "        \"\"\"The Manhattan heuristic.\"\"\"\n",
    "        X = (0, 1, 2, 0, 1, 2, 0, 1, 2)\n",
    "        Y = (0, 0, 0, 1, 1, 1, 2, 2, 2)\n",
    "        return sum(abs(X[node.state.index(num)]-X[self.goal.index(num)]) + abs(Y[node.state.index(num)]-Y[self.goal.index(num)]) for num in range(1, 9))\n",
    "        \n",
    "     # Esta es una posible implementaciónde la distancia de Gaschnig\n",
    "    def h3(self, node):        \n",
    "        node_state = list(node.state)\n",
    "        goal = list(self.goal)\n",
    "        distance = 0\n",
    "        while node_state != goal:            \n",
    "            if (node_state.index(0) == goal.index (0)):                \n",
    "                idxGap = node_state.index(0)\n",
    "                swapIdx = 0                \n",
    "                misplacedFound = False\n",
    "                while (swapIdx < 9 and not misplacedFound):\n",
    "                    if node_state[swapIdx] != goal[swapIdx] and node_state[swapIdx] != 0:\n",
    "                        misplacedFound = True                        \n",
    "                    else:\n",
    "                        swapIdx = swapIdx + 1\n",
    "\n",
    "                swapValue = node_state[swapIdx]\n",
    "                node_state [idxGap] = swapValue\n",
    "                node_state [swapIdx] = 0\n",
    "                \n",
    "            else:                            \n",
    "                idxGap = node_state.index(0)\n",
    "                \n",
    "                swapValue = goal[idxGap]                \n",
    "                swapIdx = node_state.index(swapValue)\n",
    "\n",
    "                node_state[idxGap] = swapValue\n",
    "                node_state[swapIdx] = 0                         \n",
    "                \n",
    "                \n",
    "            distance = distance + 1\n",
    "\n",
    "        return distance\n",
    "    \n",
    "    def h(self, node): return self.h2(node)\n",
    "    \n",
    "    \n",
    "def hamming_distance(A, B):\n",
    "    \"Number of positions where vectors A and B are different.\"\n",
    "    return sum(a != b for a, b in zip(A, B))\n",
    "\n",
    "\n",
    "def inversions(board):\n",
    "    \"The number of times a piece is a smaller number than a following piece.\"\n",
    "    return sum((a > b and a != 0 and b != 0) for (a, b) in combinations(board, 2))\n",
    "    \n",
    "    \n",
    "def board8(board, fmt=(3 * '{} {} {}\\n')):\n",
    "    \"A string representing an 8-puzzle board\"\n",
    "    return fmt.format(*board).replace('0', '_')\n",
    "\n"
   ]
  },
  {
   "cell_type": "markdown",
   "id": "1ee5e42c",
   "metadata": {},
   "source": [
    "Volvamos a crear instancias de problemas del 8-Puzzle:"
   ]
  },
  {
   "cell_type": "code",
   "execution_count": null,
   "id": "9203a6e8",
   "metadata": {},
   "outputs": [],
   "source": [
    "# Ejemplos de creación de instancias del problema del 8-puzzle\n",
    "e1 = EightPuzzle((1, 4, 2, 0, 7, 5, 3, 6, 8))\n",
    "e2 = EightPuzzle((1, 2, 3, 4, 5, 6, 7, 8, 0))\n",
    "e3 = EightPuzzle((4, 0, 2, 5, 1, 3, 7, 8, 6))\n",
    "e4 = EightPuzzle((7, 2, 4, 5, 0, 6, 8, 3, 1))\n",
    "e5 = EightPuzzle((8, 6, 7, 2, 5, 4, 3, 0, 1))\n"
   ]
  },
  {
   "cell_type": "markdown",
   "id": "d8f34c46",
   "metadata": {},
   "source": [
    "y a continuación podrías hacer uso cualquiera de las estrategias de búsqueda disponibles en la librería para resolver el problema. Algunas de las estrategias de búsqueda, tanto ciegas como heurísticas, que podemos utilizar por venir ya implementadas son las siguientes:\n",
    "\n",
    "|Algoritmo|Función python|*f*|\n",
    "|:---------|--|---:|\n",
    "|Breadth search |`breadth_first_search`| no-informada |\n",
    "|Depth search | `depth_first_search`|no-informada|\n",
    "|Limited Depth search | `depth_limited_search`|no-informada|\n",
    "|Breadth best-first search |`breadth_first_bfs`| *f = len*|\n",
    "|Depth best-first search |`depth_first_bfs`| *f = -len*|\n",
    "|Greedy best-first search |` greedy_bfs `| *f = h*|\n",
    "|Uniform-cost search |` uniform_cost_search `| *f = g*|\n",
    "|A* search |` astar_search `| *f = g + h*|\n",
    "|Weighted A* search | ` weighted_astar_search ` | *f = g + 1.4 &times; h*|\n"
   ]
  },
  {
   "cell_type": "code",
   "execution_count": null,
   "id": "a621d510",
   "metadata": {},
   "outputs": [],
   "source": [
    "# resolver una instancia particular con una estrategia de búsqueda concreta\n",
    "# retorna la solución, como una instancia de Node\n",
    "print(f'Resolver el problema {e1} con Búsqueda en Anchura')\n",
    "sol = breadth_first_search(e1)\n",
    "print (\"Nodo solución: \", sol)\n",
    "print (path_states(sol))\n",
    "\n",
    "print(f'Resolver el problema {e1} con Búsqueda de coste uniforme')\n",
    "sol = uniform_cost_search(e1)\n",
    "print (\"Nodo solución: \", sol)\n",
    "print (path_states(sol))\n",
    "\n",
    "print(f'Resolver el problema {e1} con Búsqueda A* (con una de la heurísticas de 8-Puzzle)')\n",
    "sol = astar_search(e1)\n",
    "print (\"Nodo solución: \", sol)\n",
    "print (path_states(sol))\n"
   ]
  },
  {
   "cell_type": "markdown",
   "id": "b962584d",
   "metadata": {},
   "source": [
    "Recuerda que puedes hacer uso de funciones como `path_states()` y `path_actions()` para obtener la cadena de estados que llevan a la solución y las acciones respectivas, pudiendo observar los estados que se alcanzan en el camino de la solución y las acciones que se aplicaron para ello. "
   ]
  },
  {
   "cell_type": "markdown",
   "id": "1711ee75",
   "metadata": {},
   "source": [
    "❓ **Pregunta 1**. Ejecuta la comparativa de todas las estrategias búsqueda utilizando la función `report` y responde a las siguientes cuestiones de manera justificada en relación a las medidas obtenidas.\n",
    "\n",
    "- 1.1) ¿Qué desventajas o limitaciones consideras que tienen las búsquedas no-informadas? ¿Por qué? \n",
    "**Pista**: Revisa lo que viste en la expositiva al respecto de la complejidad computacional.\n",
    "\n",
    "- 1.2) ¿Qué estrategias obtienen soluciones óptimas? ¿Si cambiaramos las instancias del problema, esas estrategias seguirían obteniendo soluciones óptimas siempre?\n",
    "\n",
    "- 1.3) Discute de manera justificada el rendimiento de los algoritmos en términos del coste del camino/solución, el número de nodos explorados, y si obtiene la solución óptima.\n",
    "\n",
    "- 1.4) ¿Qué (función) heurística ha utilizado `astar_search`? Simplemente indica cuál es pues ya entrarás en detalles más adelante.\n",
    "\n",
    "**Pistas**: En la expositiva has visto lo que es una búsqueda óptima, que es aquella que encuentra la mejor solución, si existe, independientemente de si el proceso de búsqueda es eficiente o no. Por lo tanto, aquí nos referimos a la solución óptima como aquella mejor solución posible.\n"
   ]
  },
  {
   "cell_type": "markdown",
   "id": "284dccba-c60c-4c1b-83bb-485a1ac42043",
   "metadata": {},
   "source": [
    "# EJERCICIO 1"
   ]
  },
  {
   "cell_type": "code",
   "execution_count": null,
   "id": "f753e6d3",
   "metadata": {},
   "outputs": [],
   "source": [
    "busquedas = (\n",
    "    breadth_first_search,\n",
    "    depth_limited_search,\n",
    "    breadth_first_bfs,\n",
    "    greedy_bfs,\n",
    "    uniform_cost_search,\n",
    "    astar_search,\n",
    "    weighted_astar_search\n",
    "    )\n",
    "\n",
    "ejemplos = (e1, e2, e3,e4, e5)\n",
    "report(busquedas, ejemplos)"
   ]
  },
  {
   "cell_type": "markdown",
   "id": "fde8b042-47fb-4cb4-bb45-04c94ce45495",
   "metadata": {},
   "source": [
    "## 1.1) \n",
    "A simple vista podemos observar que el mayor problema es la baja eficiencia, debido a la gran generación de nodos que provoca una gran complejidad espacial, además de la complejidad computacional. \n",
    "\n",
    "## 1.2) \n",
    "Menos la de búsqueda en profundidad, todas las demás.\n",
    "\n",
    "## 1.3)\n",
    "- **BFS**: es una estrategia óptima, ya que siempre va a encontrar una solución si existe, sin embargo genera muchos nodos, de esta forma su complejidad espacial es muy alta. Por otra parte, su complejidad temporal es exponencial, siendo, además, muy lento.\n",
    "  \n",
    "- **DLS**: en este caso genera muchos menos nodos, pero esto puede estar provocado por el límite de búsqueda que no le permite avanzar. Además, no es óptimo, puesto que no siempre encuentra solución. De esta forma su complejidad espacial es baja (b*m). La complejidad temporal es igual que en anchura.\n",
    "\n",
    "- **BF-BFS**: este tipo de búsqueda, a pesar de ser informada, genera muchos nodos  (incluso más que la BFS normal), teniendo una complejidad espacial muy alta. De esta forma, al ser una BFS es completa pero muy poco eficiente.\n",
    "\n",
    "- **GBFS**: la búsqueda greedy genera muchos menos nodos (complejidad espacial baja), sin embargo recorre más que el resto de búsqueda, por lo que puede ser poco eficiente. Al ser BFS sigue siendo completa.\n",
    "\n",
    "- **UCS**: esta búsqueda es completa y óptima, es una aplicación de BFS. Genera más nodos que el BFS normal, concretamente, los mismos que BFBFS. Sin embargo, la complejidad computacional es ligeramente menor que la búsqueda en profundidad.\n",
    "\n",
    "- **As**: la búsqueda A* recorre considerablemente menos nodos que el resto de búsquedas en anchura, sin embargo recorre exactamente el mismo número de ellos. La complejidad temporal depende de la heurística. \n",
    "\n",
    "- **WAs**: esta búsqueda ponderada A* es la búsqueda completa que menos nodos genera, a pesar de que acaba recorriendo los mismos que el resto. Por eso podemos afirmar que es eficiente en cuanto a la complejidad espacial.\n",
    "\n",
    "## 1.4)\n",
    "Usa una función de costo f = g(x) + h(x), siendo la función heurística h(x) y x el estado actual."
   ]
  },
  {
   "cell_type": "markdown",
   "id": "efef3d2b",
   "metadata": {},
   "source": [
    "## Implementación de heurísticas para A*: problema del 8-puzzle"
   ]
  },
  {
   "cell_type": "markdown",
   "id": "5071138d",
   "metadata": {},
   "source": [
    "\n",
    "\n",
    "Las estrategias de búsquedas informadas (heurísticas) utilizan conocimiento específico del problema\n",
    "y vienen dirigidas por una función de evaluación que gobierna la expansión de los nodos de la forma\n",
    "f(n) = g(n) + h(n), donde \n",
    "\n",
    "- g(n) = el coste real de haber alcanzado el nodo/estado n\n",
    "\n",
    "- h(n) = el coste estimado del camino más \"barato\" desde el estado n hasta un estado objetivo (Nota: el más \"barato\" se suele referir al más corto o al de menor coste, pero depende del problema específico)\n",
    "\n",
    "y que, por tanto, da cuenta del coste del camino construido hasta el estado actual y el coste estimado\n",
    "heurísticamente de lo que queda hasta alcanzar un estado objetivo. La función heurística h(n) es la\n",
    "responsable de codificar el conocimiento específico para realizar la búsqueda de manera informada,\n",
    "y es considerada una función arbitraria, no-negativa, que cumple además la restricción de h(n)=0 si n\n",
    "es un estado objetivo.\n",
    "\n",
    "De esta forma, existen algunas estrategias de búsqueda bien conocidas caracterizadas por la\n",
    "estructura de la función de evaluación, que ya has empleado anteriormente.\n",
    "- Búsqueda voraz primero el mejor (Greedy best-first search): intenta expandir el nodo que está más cerca del objetivo, con el fundamento de que esto lleve probablemente a una solución más rápidamente a expensas de la optimalidad de la solución. La evaluación se lleva a cabo sólo con la función heurística: f(n) = h(n)\n",
    "- Búsqueda A*: De manera amplia se combina tanto el coste del camino recorrido como la estimación de lo que queda, con el objetivo de minimizar el coste total estimado mientras considera reducir el coste de la solución intermedia construida: f(n) = g(n) + h(n)\n",
    "\n",
    "Puedes comprobar la función f de cada una de estas estrategias, como sigue."
   ]
  },
  {
   "cell_type": "code",
   "execution_count": null,
   "id": "0aa18a36",
   "metadata": {},
   "outputs": [],
   "source": [
    "psource (greedy_bfs)\n",
    "psource (astar_search)\n",
    "psource (best_first_search)\n",
    "psource (g)"
   ]
  },
  {
   "cell_type": "markdown",
   "id": "7b50c2ca",
   "metadata": {},
   "source": [
    "Típicamente, se pueden diseñar funciones heurísticas h transformando el problema original en un\n",
    "problema relajado o problema con restricciones relajadas. Por ejemplo, el problema original del 8-\n",
    "puzzle se define como sigue: *Una ficha puede moverse de la posición A a la B si A es adyacente (ya sea\n",
    "horizontal o verticalmente) a B, y B es el blanco*. Partiendo de esa formulación, podemos generar tres\n",
    "problemas relajados mediante la eliminación de una o ambas condiciones:\n",
    "- (a) Una ficha puede moverse de la posición A a la B is A es adyacente a B.\n",
    "- (b) Una ficha puede moverse de la posición A a la B si B es blanco.\n",
    "- (c) Una ficha puede mover de la posición A a la B.\n",
    "\n",
    "En los ejemplos de la implementación del 8-puzzle, las funciones de evaluación emplean como función heurística\n",
    "h las siguientes, que se corresponden con la formulación de los problemas relajados (c), (a) y (b) respectivamente:\n",
    "- h1 (n) = número de fichas que en el estado n están descolocadas o fuera de su posición en el objetivo = distancia de Hamming\n",
    "- h2 (n) = suma de las distancias ortogonales de cada ficha a su posición en el estado objetivo = distancia de Manhattan\n",
    "- h3 (n) = número de intercambios con el blanco para transformar el estado inicial en el objetivo = distancia de Gaschnig\n"
   ]
  },
  {
   "cell_type": "markdown",
   "id": "f2b65f41",
   "metadata": {},
   "source": [
    "Cabe destacar que, por defecto, la implementación `EightPuzzle` utiliza la distancia de Manhattan (i.e., h2). Por tanto, para hacer uso de la h1 y poder incluir el uso de dicha estrategia en la comparativa necesitamos definir previamente una función `astar_misplaced_tiles` como se ejemplifica a continuación."
   ]
  },
  {
   "cell_type": "code",
   "execution_count": null,
   "id": "0256c49f",
   "metadata": {},
   "outputs": [],
   "source": [
    "def astar_misplaced_tiles(problem): return astar_search(problem, h=problem.h1)\n",
    "def astar_gaschnig(problem): return astar_search(problem, h=problem.h3)\n"
   ]
  },
  {
   "cell_type": "markdown",
   "id": "e807d7fe",
   "metadata": {},
   "source": [
    "Que podemos entonces utilizar como cualquier otra función que implementa una estrategia de búsqueda."
   ]
  },
  {
   "cell_type": "code",
   "execution_count": null,
   "id": "0f0dc0b2",
   "metadata": {},
   "outputs": [],
   "source": [
    "sol2=astar_misplaced_tiles(e1)\n",
    "for s in path_states(sol2):\n",
    "    print(board8(s))\n",
    "\n",
    "report([astar_misplaced_tiles, astar_search], [e1, e3])"
   ]
  },
  {
   "cell_type": "markdown",
   "id": "28a7a450",
   "metadata": {},
   "source": [
    "❓ **Pregunta 2**. Compara la estrategia A* con las tres heurísticas del 8-Puzzle y discútelas de manera justificada. Incluye la búsqueda en anchura en la comparativa. ¿Qué función heurística es más informada? ¿Cómo ha funcionado en promedio la tercera heurística en relación con las otras dos? ¿En qué proporción o orden de magnitud funciona la búsqueda con heurística que sin ella?\n",
    "\n",
    "No olvides incluir el código que has tenido que escribir para realizar la tabla comparativa resultante. \n",
    "\n",
    "**Pista**: Cuando disponemos de varias funciones heurísticas que utilizan la estrategia A\\*, decimos que una función es más informada que otra cuando la primera necesita expandir menos nodos que la segunda. Asumimos entonces que debido a la mayor información codificada en la función heurística, o al menos aprovechada de mejor forma, permite guiar mejor el proceso de búsqueda de tal forma que la estimación dada por la función *h* se ajusta/acerca más a la realidad del coste pendiente.\n"
   ]
  },
  {
   "cell_type": "markdown",
   "id": "35b12f8d-06c9-408e-9690-7cb74b224124",
   "metadata": {},
   "source": [
    "# EJERCICIO 2"
   ]
  },
  {
   "cell_type": "code",
   "execution_count": null,
   "id": "9ef41076",
   "metadata": {},
   "outputs": [
    {
     "ename": "",
     "evalue": "",
     "output_type": "error",
     "traceback": [
      "\u001b[1;31mThe Kernel crashed while executing code in the current cell or a previous cell. \n",
      "\u001b[1;31mPlease review the code in the cell(s) to identify a possible cause of the failure. \n",
      "\u001b[1;31mClick <a href='https://aka.ms/vscodeJupyterKernelCrash'>here</a> for more info. \n",
      "\u001b[1;31mView Jupyter <a href='command:jupyter.viewOutput'>log</a> for further details."
     ]
    }
   ],
   "source": [
    "funciones = (\n",
    "    astar_search(p, h=h1),\n",
    "    astar_search(p, h=h2),\n",
    "    astar_search(p, h=h3)\n",
    ")\n",
    "\n",
    "problema = (e1, e2, e3, e4, e5)\n",
    "\n",
    "for f in funciones:\n",
    "    for p in problema:\n",
    "        report(breadth_first_search(p), p)"
   ]
  },
  {
   "cell_type": "markdown",
   "id": "b2578c45-069a-481a-96f0-dbda01a51881",
   "metadata": {},
   "source": [
    "EWOJFOSÑDFMARJROSJ"
   ]
  },
  {
   "cell_type": "markdown",
   "id": "f2da79a0-22d6-4cc5-af33-d605db7649b8",
   "metadata": {},
   "source": [
    "\n",
    "# El problema de Viajante de Comercio (VC) y Búsqueda A*"
   ]
  },
  {
   "cell_type": "markdown",
   "id": "30c4536e-bc51-4ede-835d-eda114fac915",
   "metadata": {},
   "source": [
    "Recupera el código de tu implementación de `ProblemaViajanteComercio(Problem)` que realizaste en la anterior práctica, e incorpórala en la siguiente celda. Fíjate que esa implementación tenía el método h para devolver 0, que era entonces suficiente puesto que hasta el momento solo estabas utilizando estrategias de búsqueda a ciegas. \n"
   ]
  },
  {
   "cell_type": "code",
   "execution_count": null,
   "id": "9dc5636a",
   "metadata": {},
   "outputs": [],
   "source": [
    "# Celda asociada\n",
    "# Completa la implementación\n",
    "\n",
    "class ProblemaViajanteComercio(Problem):\n",
    "    \"\"\" Problema Viajante de Comercio\n",
    "    \"\"\"    \n",
    "            \n",
    "    def actions(self, state):\n",
    "        \"\"\"devuelve la lista de ciudades no visitadas como acciones potenciales.\"\"\"  \n",
    "        # ToDo\n",
    "        return []\n",
    "    \n",
    "    def result(self, state, action):\n",
    "        \"\"\"produce el nuevo estado al anadir la accion seleccionada\"\"\"                                      \n",
    "        # ToDo        \n",
    "        return state\n",
    "    \n",
    "    def is_goal(self, state):        \n",
    "        # ToDo\n",
    "        return False\n",
    "    \n",
    "    def action_cost(self, s, action, s1):\n",
    "        \"\"\"The distance (cost) to go from s to s1.\"\"\"        \n",
    "        # ToDo\n",
    "        return 0   \n",
    "    \n",
    "    def h(self, node): \n",
    "        # ToDo\n",
    "        return 0\n"
   ]
  },
  {
   "cell_type": "markdown",
   "id": "aa5f1388",
   "metadata": {},
   "source": [
    "### Implementación de heurísticas para VC\n",
    "\n",
    "La elección de heurísticas que estimen el coste de alcanzar un estado objetivo a partir de un estado dado es crucial para que la estrategia de búsqueda A* sea guiada con mayor eficacia. Recordemos que cuanta más precisa sea la estimación que efectue la función h (i.e., más cercana al coste real), más informada será la búsqueda. Es conveniente que la heurística subestime el coste real para asegurar que la estrategia sigue siendo admisible, y por tanto no descarte estados que puedan conducir a la solución óptima.\n"
   ]
  },
  {
   "cell_type": "markdown",
   "id": "c614db63",
   "metadata": {},
   "source": [
    "❓ **Pregunta 3**. Realiza las implementaciones necesarias para incorporar heurísticas a la implementación A* del VC y responde a las siguientes cuestiones.\n",
    "\n",
    "- 3.1) Diseña e implementa las siguientes funciones heurísticas que se proponen para una estrategia de búsqueda A* explicando brevemente cómo las has implementado:\n",
    "    - h1 (n) = vecino más próximo: esta heurística considera como coste estimado la distancia al vecino más próximo que no haya sido visitado todavía, persiguiendo de esta forma que se produzca el mínimo incremento en longitud al añadir la ciudad al camino.\n",
    "    - h2 (n) = vecino más lejano: esta heurística considera como coste estimado la distancia al vecino más lejano que no haya sido visitado todavía, teniendo en cuenta de esta forma posible coste en que se podría incurrir luego por esos nodos más lejanos pendientes.\n",
    "    - h3 (n) = distancias medias: esta heurística considera realizar una estimación calculada como la distancia media a los nodos pendientes de visitar.\n",
    "- 3.2) Utiliza el grafo de las 8 ciudades gallegas como datos de entrada para comprobar la correctitud de tu implementación. ¿Cuál es la distancia obtenida en la solución óptima? Muestra el resultado de la ejecución A* con las diferentes heurísticas implementadas.\n",
    "- 3.3) Para cargar varias instancias del problema como entrada, utiliza algunos ficheros del directorio `./data`, y lleva a cabo la comparación de las heurísticas implementadas. Explica y justifica los resultados obtenidos. \n",
    "\n",
    "**Nota:** Ten en cuenta que para extraer conclusiones científicamente válidas puede no ser suficiente utilizar una única instancia del problema como entrada.\n",
    "\n"
   ]
  },
  {
   "cell_type": "code",
   "execution_count": null,
   "id": "d28f4005",
   "metadata": {},
   "outputs": [],
   "source": [
    "# Celda asociada a las Preguntas 3.1, 3.2 y 3.3\n",
    "\n"
   ]
  },
  {
   "cell_type": "markdown",
   "id": "02d13fa2",
   "metadata": {},
   "source": [
    "❓ **Pregunta 4:** Diseña e implementa otra función heurística para resolver el problema del VC con A*. En particular, tal y como sugiere el libro de Russell & Norvig, se puede utilizar una función heurística basada en el árbol de expansión mínima (minimum spanning tree - MST) como subestimación del coste, que se podría obtener mediante los algoritmos de Prim o Kruskal que has visto en una asignatura previa. Estudia su rendimiento de esta nueva heurística en relación a las otras funciones heurísticas que implementaste en la pregunta 3. \n",
    "\n"
   ]
  },
  {
   "cell_type": "code",
   "execution_count": null,
   "id": "1f413f05-5ec3-421c-905d-2374d21876f9",
   "metadata": {},
   "outputs": [],
   "source": [
    "# Incluye aquí la resolución, estudio y discusión de resultados\n",
    "# emplea las celdas que sean necesarias para que esté bien organizado y sea legible\n"
   ]
  },
  {
   "cell_type": "markdown",
   "id": "2c23e927",
   "metadata": {},
   "source": [
    "**************************************************************"
   ]
  },
  {
   "cell_type": "markdown",
   "id": "7f65f96d",
   "metadata": {},
   "source": [
    "# Respuestas a los ejercicios y evaluación"
   ]
  },
  {
   "cell_type": "markdown",
   "id": "03c8cdc2",
   "metadata": {},
   "source": [
    "**RECUERDA:** No te olvides de escribir tu nombre y apellidos en la segunda celda del presente documento."
   ]
  },
  {
   "cell_type": "markdown",
   "id": "0f7b1cdf",
   "metadata": {},
   "source": [
    "Incluye las celdas que consideres oportunas para que sea legible. Incluye la formulación de las preguntas para una mejor comprensión y facilitar su corrección.\n",
    "\n",
    "La práctica se evaluará siguiendo un esquema 8+2, en el que los primeros 8 puntos se evaluarán mediante un cuestionario automático de evaluación que consideran las secciones de la práctica relativa a las preguntas 1, 2 y 3, mientras que los últimos 2 puntos se corresponderán al ejercicio planteado en la Pregunta 4.\n",
    "\n",
    "El cuestionario automático de evaluación se realiza normalmente en la primera sesión de la próxima práctica, y se centrará en la resolución por tu parte de diversas cuestiones prácticas relacionadas tanto con los aspectos conceptuales como de implementación de tu práctica, pudiendo ser necesaria la ejecución, adaptación y modificación de la misma durante la duración de la prueba.\n",
    "\n",
    "Independientemente del cuestionario automático de evaluación, las preguntas planteadas deben responderse en el notebook de manera clara y precisa. Esas preguntas generales están diseñadas para formarte, y te servirán para razonar y reflexionar sobre el tema, así como también para fomentar una discusión constructiva con los docentes durante las sesiones. No se dará por superada la práctica si las respuestas en el notebook no son adecuadas. \n",
    "\n",
    "Recuerda que el plagio/copia completa o parcial de prácticas de otros compañeros acarrea no solo el suspenso de la práctica en curso sino también de la asignatura en dos convocatorias."
   ]
  },
  {
   "cell_type": "markdown",
   "id": "09ed9819",
   "metadata": {},
   "source": [
    "**************************************************************"
   ]
  }
 ],
 "metadata": {
  "kernelspec": {
   "display_name": "Python 3",
   "language": "python",
   "name": "python3"
  },
  "language_info": {
   "codemirror_mode": {
    "name": "ipython",
    "version": 3
   },
   "file_extension": ".py",
   "mimetype": "text/x-python",
   "name": "python",
   "nbconvert_exporter": "python",
   "pygments_lexer": "ipython3",
   "version": "3.11.8"
  }
 },
 "nbformat": 4,
 "nbformat_minor": 5
}
