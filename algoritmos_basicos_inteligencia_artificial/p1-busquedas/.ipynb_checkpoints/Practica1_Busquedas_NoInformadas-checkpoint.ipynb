{
 "cells": [
  {
   "cell_type": "markdown",
   "id": "7b82b496",
   "metadata": {},
   "source": [
    "# Práctica 1: Búsquedas en espacios de estados. Búsquedas no informadas.\n",
    "* versión 1.0 (3 Feb 25)"
   ]
  },
  {
   "cell_type": "markdown",
   "id": "79c2ecc7",
   "metadata": {},
   "source": [
    "<center><h3>\n",
    "    Asier Acuña Casal\n",
    "</h3></center>"
   ]
  },
  {
   "cell_type": "markdown",
   "id": "598f51aa",
   "metadata": {},
   "source": [
    "## Instrucciones"
   ]
  },
  {
   "cell_type": "markdown",
   "id": "afad4a70",
   "metadata": {},
   "source": [
    "Esto es **Jupyter Notebook**, un documento que integra código Python en un archivo Markdown.\n",
    "Esto nos permite ir ejecutando celdas de código poco a poco, así como generar automáticamente un informe bien formateado de la práctica.\n",
    "\n",
    "Puedes añadir una celda con el botón **\"Insert\"** de la barra de herramentas, y cambiar su tipo con **\"Cell > Cell Type\"**\n",
    "\n",
    "Para ejecutar una celda de código, la seleccionaremos y pulsaremos el botón **\"▶ Run\"** de la barra de herramentas.\n",
    "Para pasar el documento a HTML, seleccionaremos **\"File > Download as > HTML (.html)\"**\n",
    "\n",
    "Sigue este guión hasta el final. Ejecuta el código proporcionado paso a paso comprendiendo lo que estás haciendo y reflexionando sobre los resultados. Habrá preguntas intercaladas a lo largo del guión, responde a todas ellas en la sección reservada para ese fin: **\"Respuestas a los cuestionarios\"**. Por favor, no modifiques ninguna linea de código excepto cuando se te pida explícitamente.\n",
    "\n",
    "No olvides insertar tu **nombre y apellidos** en la celda superior.\n",
    "\n",
    "Recuerda que esta práctica está planificada para **3 sesiones** (Semanas 2, 3, y 4) y a lo largo de todas ellas se discutirán grupalmente parte de las preguntas y problemas. "
   ]
  },
  {
   "cell_type": "markdown",
   "id": "5d5326d6",
   "metadata": {},
   "source": [
    "## Entrega de la práctica"
   ]
  },
  {
   "cell_type": "markdown",
   "id": "ff17c95b",
   "metadata": {},
   "source": [
    "La fecha límite de entrega será la indicada en el Campus Virtual. La entrega consistirá de un único archivo comprimido con nombre `APELLIDOS_NOMBRE_Busquedas_noinformada.zip` que contenga los seguientes ficheros:\n",
    "\n",
    " * `APELLIDOS_NOMBRE_Busqueda_noinformada.html`: Archivo HTML fruto de la exportación del presente Notebook, con las preguntas respondidas al final del documento.\n",
    " * `APELLIDOS_NOMBRE_Busqueda_noinformada.ipynb`: Archivo fuente Jupyter Notebook.\n",
    " * Resto de archivos de códigos y datos que sean necesario para reejecutar tu práctica."
   ]
  },
  {
   "cell_type": "markdown",
   "id": "b854c145-328a-4d42-8219-975bb9b3a019",
   "metadata": {},
   "source": [
    "# Búsquedas en espacios de estados"
   ]
  },
  {
   "cell_type": "markdown",
   "id": "2a66615a-1f0c-4ca2-8680-24ab07b65906",
   "metadata": {},
   "source": [
    "El libro de consulta de referencia para esta práctica interactiva es el \"Artificial Intelligence: A Modern Approach.\" (conocido como AIMA http://aima.cs.berkeley.edu/) de Russell y Norvig. En particular, el [capítulo 3](http://aima.cs.berkeley.edu/4th-ed/pdfs/newchap03.pdf) ofrece una panorámica completa sobre técnicas clásicas de resolución de problemas basadas en búsqueda en espacios de estados. En esta primera parte de la práctica interactiva, vamos a centrarnos en revisar dos estrategias de búsqueda no-informada o ciega utilizadas para resolver problemas de búsqueda en espacios de estados (búsqueda en anchura, búsqueda en profundidad), y trabajarás sobre el problema de 8-Puzzle introducido en la expositiva. "
   ]
  },
  {
   "cell_type": "markdown",
   "id": "f01068f5-6623-45ef-b37d-2830b879f06b",
   "metadata": {},
   "source": [
    "## El problema del 8-Puzzle\n",
    "\n",
    "![](https://ece.uwaterloo.ca/~dwharder/aads/Algorithms/N_puzzles/images/puz3.png)\n",
    "\n",
    "El problema del 8-puzzle se plantea como un tablero 3x3 que contiene ocho fichas numeradas que se\n",
    "pueden mover gracias a que una de las posiciones contiene un espacio en blanco o hueco. El objetivo\n",
    "del juego es alcanzar el estado meta o objetivo indicado partiendo de un estado inicial dado, limitándose a\n",
    "realizar movimientos permitidos del blanco. Una solución, entendida como un proceso de resolución, viene dada\n",
    "por la secuencia de acciones o pasos que permiten alcanzar el estado meta.\n",
    "\n",
    "Este problema forma parte de la familia de puzzles o rompecabezas de piezas deslizantes, que\n",
    "pertenecen a la categoría de problemas NP. Tallas del problema más grandes, esto es, tableros con\n",
    "mayor número de fichas puede hacer su resolución impracticable. Aun así, el 8-puzzle es útil para\n",
    "probar algoritmos que implementen estrategias de búsqueda como los que utilizarás en esta práctica\n",
    "pues se puede resolver en unos milisegundos a pesar de los 9!/2=181440 estados alcanzables.\n",
    "\n",
    "\n",
    "Para familiarizarte con el problema, juega unas pocas partidas para resolver este **Juego 8-Puzzle online** disponible [aquí](https://appzaza.com/slide-puzzle/3x3) teniendo en cuenta que el estado meta es ![](./img/goal_default.png). Deberás pulsar el botón `New Game` para inciar cada nueva partida. \n",
    "\n",
    "¡A jugar! Aproximadamente 5-10 minutos... :-D\n"
   ]
  },
  {
   "cell_type": "markdown",
   "id": "a2fcf5b9-0f35-45f5-b240-55ad527e0648",
   "metadata": {},
   "source": [
    "❓ **Pregunta 1**. Tras haber jugado (y así refrescado tus habilidades), aproximemos informalmente el problema mediante la resolución de los siguientes escenarios. Piensa cómo resolverías las configuraciones iniciales indicadas abajo y responde a las diferentes cuestiones. Si es necesario dibuja la secuencia de estados y operadores aplicados.\n",
    "\n",
    "Configuraciones iniciales:\n",
    "\n",
    "A) ![](./img/paso1.png)\n",
    "B) ![](./img/pasos2b.png)\n",
    "C) ![](./img/pasos2.png)\n",
    "\n",
    "- 1.1) Indica la cadena de operadores realizada para alcanzar el estado meta. Representa en cada caso los diferentes estados que se van alcanzando en tu estrategia.\n",
    "- 1.2) Explica qué conjunto de operadores has considerado y utilizado. ¿Todos tus operadores eran aplicables en cualquiera de los estados que has representado? Justifica tu respuesta.\n",
    "- 1.3) ¿En algunos de las configuraciones tuviste que tener en cuenta varias alternativas? ¿Las tuviste que representar/dibujar? Si es el caso, documenta lo que hicieras en una celda Markdown.\n"
   ]
  },
  {
   "cell_type": "markdown",
   "id": "bd1fed84-9b4e-44a6-96cc-00c248dc6401",
   "metadata": {},
   "source": [
    "---\n",
    "\n",
    "# **EJ 1.1)**\n",
    "*<p>Para entender la explicación, cabe recalcar que entiendo el tablero del juego como un array de nueve posiciones {0,1,2,3,4,5,6,7,8}, numerado de izquierda a derecha y de arriba hacia abajo. Por lo tanto, haré la explicación bajo las posiciones y no bajo las fichas. Por ejemplo, en el tablero (A), la ficha 1 coincide con la posición 0 del array y la ficha 6 con la posición 8 del array.</p>*\n",
    "- A: El operador es el movimiento hacia arriba de la posición 8 (número 6).\n",
    "Tenemos el estado inicial y el estado meta.\n",
    "<img src=\"./img/practica1_ejercicio11_juegoA.jpg\" width=\"300\"/>\n",
    "\n",
    "- B: Como operadores movemos la posición 5 hacia la izquierda, y la posición 8 hacia arriba.\n",
    "Los estados son el inicial, un estado intermedio y el meta.\n",
    "<img src=\"./img/practica1_ejercicio11_juegoB.jpg\" width=\"500\"/>\n",
    "\n",
    "- C: Como operadores tenemos mover la posición 5 hacia arriba y la posición 8 hacia arriba.\n",
    "Como estados volvemos a tener un estado inicial, uno intermedio y uno meta.\n",
    "<img src=\"./img/practica1_ejercicio11_juegoC.jpg\" width=\"500\"/>\n",
    "\n",
    "---\n",
    "# **EJ 1.2)**\n",
    "<p>En mi caso he considerado el conjunto de operadores, los movimientos hacia arriba, abajo, derecha e izquierda, centrándome en el movimiento de las piezas numeradas. Sin embargo, de los cuatro operadores tan solo he usado dos, el movimiento hacia arriba y hacia la izquierda.</p>\n",
    "<p>No todos los operadores eran aplicables en cualquier estado. Por ejemplo, bajo mi forma de entender los operadores, en el ejemplo (A) en el estado inicial, no podría mover la posición 8 hacia abajo.</p>\n",
    "\n",
    "---\n",
    "# **EJ 1.3)**\n",
    "A priori no fue necesario representar ningún estado extra debido a que las posiciones de los tableros eran muy claras. La única duda que tuve fue la decisión inicial sobre como entender los estados, decidiendo si mover la pieza blanca central o las fichas numeradas. Además de esto, una vez superamos el estado inicial, los apartados (B) y (C) coinciden con la posición del tablero del estado inicial del tablero (A), simplificando aún más el juego.\n",
    "\n",
    "**EXPLICAR BIEN QUE NOSOTROS OENSAMOS EN LA SOL OBJETIVO PERO PODIAMOS USAR BUSQUEDA NO INFORMADA**\n",
    "\n",
    "---"
   ]
  },
  {
   "cell_type": "markdown",
   "id": "da89cba1-770b-485c-8e9d-9dce10e8121e",
   "metadata": {},
   "source": [
    "Cabe destacar que las anteriores configuraciones eran muy sencillas y seguramente las habéis podido resolver casi mentalmente, con tan solo observar detenidamente la configuración inicial. En realidad, la cuestión a plantearse ahora es si has seguido una estrategia a ciegas o si habéis usado vuestro conocimiento del problema para dirigir mejor el conjunto de operadores y estados que realmente os acercaba a resolver el problema. Con total seguridad habéis aplicado vuestra *inteligencia natural*, que en ocasiones, no es sencilla de explicar. \n",
    "\n",
    "Sin embargo, en el caso de la *inteligencia artificial*, cuando queremos resolver problemas de búsqueda en espacios de estados como este, lo que se necesita son estrategias que sistemáticamente exploren el espacios de estados posibles y determinen una vez alcanzado un estado meta cuál es la secuencia de operadores que llevó a la solución. \n",
    "\n",
    "Dentro de ese conjunto de estrategias existe una categoría conocida como `búsquedas \"no-informadas\" o \"a ciegas\"`, entre las que se encuentran la *búsqueda en anchura/amplitud* y la *búsqueda en profundidad*. Estas estrategias se caracterizan por expandir el espacio de búsqueda, precisamente, de manera ciega, y explorarlo sistemáticamente siguiendo siempre el mismo criterio hasta encontrar un estado meta. \n",
    "\n",
    "Las siguiente dos figuras ilustran de manera abstracta el caso de un problema en el que se expanden los estados sucesores formando un árbol/grafo, que será el espacio de búsqueda de estados. Observa que ambas estrategias de búsqueda pueden desplegar exactamente el mismo árbol/grafo cuando los operadores sean los mismos. La diferencia por tanto radica en el orden de exploración de los estados. En el caso de la búsqueda en anchura, el recorrido se realiza por niveles, mientras que en la búsqueda en profundidad el recorrido se produce en vertical, profundizando, y sólo pasando a otra rama cuando ha completado la actual.\n",
    "\n",
    "\n",
    "**Esquema de búsqueda en anchura/amplitud.**\n",
    "\n",
    "![](./img/abstracta_anchura.png)\n",
    "\n",
    "**Esquema de búsqueda en profundidad.**\n",
    "\n",
    "![](./img/abstracta_profundidad.png)\n"
   ]
  },
  {
   "cell_type": "markdown",
   "id": "fb73bbd2-b9ec-4f63-b42e-2a9f552d94a2",
   "metadata": {},
   "source": [
    "Véamos cómo se construye nuestro espacio de búsqueda para un ejemplo concreto. \n",
    "\n",
    "❓ **Pregunta 2**. Dado el estado inicial indicado anteriormente:\n",
    "- Dibuja a mano el espacio de estados que resultaría de expandir al menos 2 niveles completos. Aplica siempre los operadores en el mismo orden (p.ej., &larr;, &rarr;, &uarr;, &darr;) y representa en cada arco el operador que corresponda. Si fuera necesario añade nodos de manera justificada.\n",
    "- Indica cuál podría ser el orden de visita de cada estado según se utilice una estrategia de búsqueda primero en anchura, o búsqueda en profundidad. Razona si cambiaría el orden de visita si se aplican los operadores en un orden diferente al que aplicaste arriba.\n",
    "\n",
    "   ![](./img/tree2.png)\n",
    "   "
   ]
  },
  {
   "cell_type": "markdown",
   "id": "89ec7002-79ac-4696-8742-c014bfc7551a",
   "metadata": {},
   "source": [
    "# **EJ2 2.1)**\n",
    "*Cabe recalcar, que a diferencia del ejercicio anterior, en este ejercicio usaremos como operadores los movimientos de la ficha vacía*\n",
    "<img src=\"./img/practica2.jpg\" width=\"1000\"/>\n",
    "\n",
    "---\n",
    "# **EJ2 2.2)**\n",
    "- Búsqueda en profundida (DFS):\n",
    "<img src=\"./img/practica22A.jpg\" width=\"1000\"/>\n",
    "- Búsqueda en anchura (BFS):\n",
    "<img src=\"./img/practica22B.jpg\" width=\"1000\"/>"
   ]
  },
  {
   "cell_type": "markdown",
   "id": "5392d18a-79a1-4bf2-bd47-154161ad24ff",
   "metadata": {},
   "source": [
    "Tras el ejercicio manual anterior, habrás notado que puede ser laborioso o incluso poco práctico representar todo el espacio cuando las instancias del puzzle a resolver requiere soluciones de más de 1-2 movimientos. Para seguir examinando cómo funciona estas estrategias de búsqueda, ahora utiliza el **simulador RMIT-Búsquedas-8Puzzle** que se encuentra accesible online [aquí](https://tristanpenman.com/demos/n-puzzle/) para hacer trazas.\n",
    "\n",
    "1) Edita los estados inicial y meta para que sean como en la siguiente figura:\n",
    "   \n",
    "   ![](./img/demo_primera_configuracion.png)\n",
    "2) Selecciona el método de búsqueda primero en anchura y modo de control \"Single-step\".\n",
    "\n",
    "3) Pulsa el botón \"Start\" para inicializar la búsqueda.\n",
    "\n",
    "4) Observa la visualización del árbol, prestando atención al contenido de los nodos, y pulsa sucesivamente en el botón \"Next\" para estudiar su expansión.\n",
    "\n",
    "5) Una vez finalice la búsqueda, realiza una captura de pantalla de la visualización resultante y ponla en una celda de markdown a continuación.\n",
    "\n",
    "Repite el proceso pero en esta ocasión utilizando el método de búsqueda primero en profundidad.\n",
    "\n",
    "Nota: Habrían otros simuladores similares disponibles (p.ej., https://deniz.co/8-puzzle-solver/). No obstante, ten en cuenta que las trazas pueden diferir debido a diferencias en la implementación del orden de los operadores que aplica el algoritmo de búsqueda."
   ]
  },
  {
   "cell_type": "markdown",
   "id": "f4b31c71-2663-4427-a8aa-1f652ba47aa0",
   "metadata": {},
   "source": [
    "*Pegar aquí la visualización resultante de la búsqueda en anchura* \n",
    "\n",
    "\n",
    "*Pegar aquí la visualización resultante de la búsqueda en profundidad* \n",
    "\n"
   ]
  },
  {
   "cell_type": "markdown",
   "id": "4acfca27-b6e3-46b8-87c3-d1b9c257fac4",
   "metadata": {},
   "source": [
    "❓ **Pregunta 3**. Utilizando el simulador RMIT, inspecciona las trazas para las estrategias de búsqueda primero en anchura y primero en profundidad para la configuraciones iniciales A), B), C).\n",
    "\n",
    "- 3.1) ¿Coincide la traza que hiciste manualmente en la Pregunta 2 con la traza automática para las configuraciones **A** y **C**)? Explica lo que observas y justifica su funcionamiento y posibles diferencias.\n",
    "- 3.2) Consulta el material de teoría de las sesiones expositivas sobre completitud y optimalidad. ¿Qué significa que una estrategia de búsqueda sea completa? ¿Y qué significa que sea óptima?\n",
    "- 3.3) Fíjate cuántos nodos se han expandido para resolver las configuración **A** y **C**) en sendas estrategias utilizadas hasta el momento. ¿Dirías que las soluciones obtenidas son óptimas? Para esas instancias del problema, ambas estrategias han encontrado una solución, ¿qué dirías sobre su eficiencia, alguna sería más eficiente que la otra o serían igualmente eficientes? ¿podemos decir que ambas sean igualmente óptimas o alguna es más óptima que otra? ¿Alguna de las estrategías o ambas podría decirse que es/son estrategia/s de búsqueda óptimas de acuerdo a lo visto en la sesión expositiva? Justifica tus respuestas.\n",
    "- 3.4) En base a las trazas realizadas y lo que conoces sobre las estrategías de búsqueda primero en anchura y primero en profundidad para resolver el problema del 8-Puzzle, razona para cada una ellas si sería Completa y Óptima. Justifica tus respuestas.\n",
    "\n",
    "Documenta adecuadamente para justificar tus respuestas a las preguntas anteriores.\n"
   ]
  },
  {
   "cell_type": "markdown",
   "id": "73091a0c",
   "metadata": {},
   "source": [
    "## Introducción a AIMA-Python y búsquedas ciegas\n"
   ]
  },
  {
   "cell_type": "markdown",
   "id": "342bc92d",
   "metadata": {},
   "source": [
    "El libro de referencia AIMA viene con un conjunto de módulos Python que contiene muchos de los algoritmos implementados. Es por ello, que en la medida de lo posible utilizaremos sus implementaciones, que originalmente pueden consultarse en el repositorio de AIMA-Python https://github.com/aimacode/aima-python, y de los que hemos incorporado una copia adaptada a las necesidades de nuestra Asignatura en este boletín.\n",
    "\n",
    "A partir de ahora, para trabajar con los algoritmos de búsqueda relevantes, primero nos familiarizaremos con las clases y funciones clave que nos permitirá resolver problemas mediante estrategias de búsqueda vistas en las sesiones expositivas. Será entonces que trabajaremos con el problema del 8-puzzle, que has estado ya inspeccionando mediante el uso de un simulador. Tras revisar cómo se implementan las estrategias de búsqueda ciega, procederás a estudiar el uso de heurísticas que permiten la implementación de búsqueda informada, pudiendo entonces estudiar el comportamiento las mismas. Finalmente, utilizarás la librería para implementar soluciones para los problemas de las Torres de Hanoi y el Viajante de Comercio, estudiando los diversos algoritmos y las heurísticas consideradas.\n"
   ]
  },
  {
   "cell_type": "markdown",
   "id": "182d7e00",
   "metadata": {},
   "source": [
    "En primer lugar, debes importar los módulos python especialmente preparados para esta Práctica 1."
   ]
  },
  {
   "cell_type": "code",
   "execution_count": null,
   "id": "10bee327",
   "metadata": {},
   "outputs": [],
   "source": [
    "# contiene algoritmos de búsqueda implementado en AIMA\n",
    "from search_mod import *\n",
    "\n",
    "# algunas funciones auxiliares\n",
    "from helpers_mod import *"
   ]
  },
  {
   "cell_type": "markdown",
   "id": "22d0d290",
   "metadata": {},
   "source": [
    "Puedes consultar el código de algunas clases y funciones clave mediante el uso de `psource(symbol)`. Por ejemplo, `psource(Problem)` mostrará el código de la clase Problem. "
   ]
  },
  {
   "cell_type": "code",
   "execution_count": null,
   "id": "a0b56ef7",
   "metadata": {},
   "outputs": [],
   "source": [
    "psource(Problem)"
   ]
  },
  {
   "cell_type": "markdown",
   "id": "9e4079ae",
   "metadata": {},
   "source": [
    "Esta clase es fundamental pues, como mostraremos más abajo, se trata de una clase abstracta que puede extenderse para implementar la resolución de problemas concretos en base a los siguientes métodos:\n",
    "- actions(state): devuelve una lista de operadores o acciones que son aplicables al estado actual\n",
    "- result(state, action): devuelve el nuevo estado resultante de aplicar la acción action al estado state\n",
    "- is_goal(state): devuelve cierto sii se ha alcanzando un estado meta u objetivo\n",
    "- action_cost(s, action, s1): calcula el coste de aplicar la action para pasar del estado s al s1\n",
    "- h(node): función heurística que se emplea en estrategias informadas. En una estrategia no informada o a ciegas debería retornar 0.\n",
    "\n",
    "Cabe destacar que las estrategias de búsqueda se basan en búsquedas sobre grafos/árboles, y por lo tanto los algoritmos manejan nodos, que mantienen la relación entre los mismos, el coste del camino, y el estado que el nodo debe representar. De ahí, la clase `Node` tiene los atributos `state, parent, action, path_cost`."
   ]
  },
  {
   "cell_type": "markdown",
   "id": "df4325ae",
   "metadata": {},
   "source": [
    "Empieza por inspeccionar el código de las clases/funciones: `breadth_first_search, depth_first_recursive_search, depth_limited_search, expand, Problem, Node`."
   ]
  },
  {
   "cell_type": "code",
   "execution_count": null,
   "id": "288586dd",
   "metadata": {},
   "outputs": [],
   "source": [
    "psource(Node)\n",
    "psource(Problem)\n",
    "psource(breadth_first_search)\n",
    "psource(depth_first_recursive_search)\n",
    "psource(depth_limited_search)\n",
    "psource(expand)"
   ]
  },
  {
   "cell_type": "markdown",
   "id": "26e828c1",
   "metadata": {},
   "source": [
    "❓ **Pregunta 4**. Fíjate en la implementación de `breadth_first_search`, `depth_first_recursive_search`, y `depth_limited_search`. \n",
    "\n",
    "- 4.1) Observa y explica las similitudes (p.ej., existe un bucle que explora un conjunto de nodos que llama frontera (nodos pendientes), expande el nodo para producir los sucesores (nodos-hijo)...). \n",
    "\n",
    "- 4.2) Ahora indica las diferencias y explica cómo crees que esas diferencias determinan el comportamiento de entre estas estrategias de búsqueda. \n",
    "\n",
    "**Pista**: Fíjate en la estructura de datos para los nodos frontera, y consulta el pseudocódigo visto en las expositivas.\n"
   ]
  },
  {
   "cell_type": "markdown",
   "id": "4ff18f83",
   "metadata": {},
   "source": [
    "Como ya adelantábamos, la clase `Problem` puede extenderse para resolver problemas particulares."
   ]
  },
  {
   "cell_type": "markdown",
   "id": "b97aabd4",
   "metadata": {},
   "source": [
    "La siguiente implementación permite usar los algoritmos de búsqueda que vienen implementados en AIMA-Python para resolver el problema del 8-puzzle (por el momento, ignora los métodos h que implementan heurísticas)."
   ]
  },
  {
   "cell_type": "code",
   "execution_count": null,
   "id": "0d2548d2",
   "metadata": {},
   "outputs": [],
   "source": [
    "class EightPuzzle(Problem):\n",
    "    \"\"\" The problem of sliding tiles numbered from 1 to 8 on a 3x3 board,\n",
    "    where one of the squares is a blank, trying to reach a goal configuration.\n",
    "    A board state is represented as a tuple of length 9, where the element at index i \n",
    "    represents the tile number at index i, or 0 if for the empty square, e.g. the goal:\n",
    "        1 2 3\n",
    "        4 5 6 ==> (1, 2, 3, 4, 5, 6, 7, 8, 0)\n",
    "        7 8 _\n",
    "    \"\"\"\n",
    "\n",
    "    def __init__(self, initial, goal=(1, 2, 3, 4, 5, 6, 7, 8, 0)):\n",
    "        assert inversions(initial) % 2 == inversions(goal) % 2 # Parity check\n",
    "        self.initial, self.goal = initial, goal\n",
    "    \n",
    "    def actions(self, state):\n",
    "        \"\"\"The indexes of the squares that the blank can move to.\"\"\"\n",
    "        moves = ((1, 3),    (0, 2, 4),    (1, 5),\n",
    "                 (0, 4, 6), (1, 3, 5, 7), (2, 4, 8),\n",
    "                 (3, 7),    (4, 6, 8),    (7, 5))\n",
    "        blank = state.index(0)\n",
    "        return moves[blank]\n",
    "    \n",
    "    def result(self, state, action):\n",
    "        \"\"\"Swap the blank with the square numbered `action`.\"\"\"\n",
    "        s = list(state)\n",
    "        blank = state.index(0)\n",
    "        s[action], s[blank] = s[blank], s[action]\n",
    "        return tuple(s)\n",
    "    \n",
    "    \n",
    "    def h(self, node): return 0\n",
    "    \n",
    "    \n",
    "\n",
    "def inversions(board):\n",
    "    \"The number of times a piece is a smaller number than a following piece.\"\n",
    "    return sum((a > b and a != 0 and b != 0) for (a, b) in combinations(board, 2))\n",
    "    \n",
    "    \n",
    "def board8(board, fmt=(3 * '{} {} {}\\n')):\n",
    "    \"A string representing an 8-puzzle board\"\n",
    "    return fmt.format(*board).replace('0', '_')\n",
    "\n"
   ]
  },
  {
   "cell_type": "code",
   "execution_count": null,
   "id": "c5268dd7",
   "metadata": {},
   "outputs": [],
   "source": [
    "class Board(defaultdict):\n",
    "    empty = '.'\n",
    "    off = '#'\n",
    "    def __init__(self, board=None, width=8, height=8, to_move=None, **kwds):\n",
    "        if board is not None:\n",
    "            self.update(board)\n",
    "            self.width, self.height = (board.width, board.height) \n",
    "        else:\n",
    "            self.width, self.height = (width, height)\n",
    "        self.to_move = to_move\n",
    "\n",
    "    def __missing__(self, key):\n",
    "        x, y = key\n",
    "        if x < 0 or x >= self.width or y < 0 or y >= self.height:\n",
    "            return self.off\n",
    "        else:\n",
    "            return self.empty\n",
    "        \n",
    "    def __repr__(self):\n",
    "        def row(y): return ' '.join(self[x, y] for x in range(self.width))\n",
    "        return '\\n'.join(row(y) for y in range(self.height))\n",
    "            \n",
    "    def __hash__(self): \n",
    "        return hash(tuple(sorted(self.items()))) + hash(self.to_move)"
   ]
  },
  {
   "cell_type": "markdown",
   "id": "1ee5e42c",
   "metadata": {},
   "source": [
    "Puedes crear instancias de problemas del 8-Puzzle de la siguiente forma:"
   ]
  },
  {
   "cell_type": "code",
   "execution_count": null,
   "id": "9203a6e8",
   "metadata": {},
   "outputs": [],
   "source": [
    "# Ejemplos de creación de instancias del problema del 8-puzzle\n",
    "e1 = EightPuzzle((1, 4, 2, 0, 7, 5, 3, 6, 8))\n",
    "e2 = EightPuzzle((1, 2, 3, 4, 5, 6, 7, 8, 0))\n",
    "e3 = EightPuzzle((4, 0, 2, 5, 1, 3, 7, 8, 6))\n",
    "e4 = EightPuzzle((7, 2, 4, 5, 0, 6, 8, 3, 1))\n",
    "e5 = EightPuzzle((8, 6, 7, 2, 5, 4, 3, 0, 1))\n"
   ]
  },
  {
   "cell_type": "markdown",
   "id": "d8f34c46",
   "metadata": {},
   "source": [
    "y puedes proceder a resolver el problema mediante la estrategia de búsqueda deseada de la siguiente manera, que retorna el Node correspondiente al estado solución"
   ]
  },
  {
   "cell_type": "code",
   "execution_count": null,
   "id": "a621d510",
   "metadata": {},
   "outputs": [],
   "source": [
    "# resolver una instancia particular con una estrategia de búsqueda concreta\n",
    "# retorna la solución, como una instancia de Node\n",
    "print(f'Resolver el problema {e1} con Búsqueda en Anchura')\n",
    "sol = breadth_first_search(e1)\n",
    "print (\"Nodo solución: \", sol)"
   ]
  },
  {
   "cell_type": "markdown",
   "id": "b962584d",
   "metadata": {},
   "source": [
    "Para este problema, como el nodo de la solución es sencillamente el nodo meta, y éste era una entrada al problema, no resulta muy informativo. Sin embargo, sí podemos consultar los atributos de dicho nodo e incluso obtener los movimientos que condujeron al estado objetivo desde el estado inicial. \n",
    "\n",
    "Veamos cómo puedes obtener esta información."
   ]
  },
  {
   "cell_type": "code",
   "execution_count": null,
   "id": "d61caff8",
   "metadata": {},
   "outputs": [],
   "source": [
    "# e imprimir informacion relevante utilizando los atributos y funciones siguientes\n",
    "print (f'Coste del camino: {sol.path_cost:d}')\n",
    "print (f'Estado solución: {sol.state:}')\n",
    "print (f'Estado solución (tablero):')\n",
    "print (board8(sol.state))\n",
    "print (f'Lista de acciones: {path_actions(sol)}')\n",
    "print (f'Numero de acciones en el camino: {len(path_actions(sol))}')\n",
    "print (f'Lista de estados:')\n",
    "print (path_states(sol))\n",
    "\n",
    "# lista de estados formateado\n",
    "for s in path_states(sol):\n",
    "    print(board8(s))"
   ]
  },
  {
   "cell_type": "markdown",
   "id": "1e5233dc",
   "metadata": {},
   "source": [
    "Además de ver la traza, puedes también inspeccionar el código de `path_actions` y `path_states` para ver su implementación con el objetivo de entender cómo funciona internamente."
   ]
  },
  {
   "cell_type": "code",
   "execution_count": null,
   "id": "9329df70",
   "metadata": {},
   "outputs": [],
   "source": [
    "psource(path_actions)\n",
    "psource(path_states)"
   ]
  },
  {
   "cell_type": "markdown",
   "id": "d00d54f0",
   "metadata": {},
   "source": [
    "❓ **Pregunta 5**. La clase EightPuzzle implementa el problema para el Puzzle, especificando la codificación del estado, los operadores y el modelo de transición entre estados. Inspecciona el código con detenimiento. Atendiendo a la implementación disponible, responde de manera razonada a las siguientes cuestiones:\n",
    "\n",
    "- 5.1) Describe qué estructura de datos se utiliza y cómo se ha representado el estado en la implementación dada.\n",
    "- 5.2) ¿Qué operadores (u acciones) puede aplicar el agente inteligente? y ¿Cómo se implementa el modelo de transición (i.e.,  cómo se determinan los operadores aplicables y se lleva a cabo la acción adecuada)? Explícalo brevemente.\n",
    "- 5.3) ¿Dónde se almacena el coste de la solución obtenida? ¿y dónde se almacena los operadores o acciones seguidas para alcanzar el estado meta?\n",
    "- 5.4) Prueba a resolver otra instancia del problema del 8-puzzle no definida anteriormente. ¿Qué instancia has probado? ¿Cuál es el coste del camino de dicha resolución? Incluye el código de tus pruebas en la celda.\n"
   ]
  },
  {
   "cell_type": "code",
   "execution_count": null,
   "id": "7df23b0f",
   "metadata": {},
   "outputs": [],
   "source": [
    "# Celda asociada a la Pregunta 5.4\n"
   ]
  },
  {
   "cell_type": "markdown",
   "id": "3cdda8eb",
   "metadata": {},
   "source": [
    "❓ **Pregunta 5**. Prueba a resolver las instancias del problema e1, e2 de nuevo, así como la instancia correspondiente a la configuración inicial A y C. Intenta resolver estas tres instancias con las estrategias `breadth_first_search`, `depth_first_recursive_search` y `depth_limited_search`. \n",
    "\n",
    "5.1) Crea una tabla resumen en [Markdown](https://denshub.com/es/howto-create-table-markdown/) sobre los resultados de las pruebas. Indica la lista de operadores y la longitud del camino solución. \n",
    "\n",
    "5.2) Explica qué pruebas fueron satisfactorias y cuáles no. Explica sobre las dificultades que has encontrado en la resolución de las pruebas, siempre razonando sobre el funcionamiento de los algoritmos."
   ]
  },
  {
   "cell_type": "code",
   "execution_count": null,
   "id": "31c47360",
   "metadata": {},
   "outputs": [],
   "source": []
  },
  {
   "cell_type": "markdown",
   "id": "89236bd6",
   "metadata": {},
   "source": [
    "## Indicadores y comparación de estrategias\n"
   ]
  },
  {
   "cell_type": "markdown",
   "id": "94e6c521",
   "metadata": {},
   "source": [
    "Ahora que eres capaz de ejecutar diferentes estrategias de búsqueda, podemos proceder a compararlas.\n",
    "\n",
    "Para facilitar esta labor, disponemos de la función `report`, que nos permite obtener el resumen de estadísticas para un algoritmo o estrategia de búsqueda. Para colectar las estadísticas, esta función hace uso de la clase `CountCalls`, que envuelve un objeto `Problem` de tal forma que las llamadas a sus métodos se delegan al problema original a la vez que incrementa un contador.\n",
    "\n",
    "Echa un vistazo al código de esta función y clase."
   ]
  },
  {
   "cell_type": "code",
   "execution_count": null,
   "id": "50d0cadf",
   "metadata": {},
   "outputs": [],
   "source": [
    "psource (report)\n",
    "psource (CountCalls)\n",
    "psource (report_counts)"
   ]
  },
  {
   "cell_type": "markdown",
   "id": "6fd60e9c",
   "metadata": {},
   "source": [
    "Para obtener las estadísticas resultantes de la aplicación de múltiples estrategias a la resolución de un conjunto de instancias del problema, tan solo necesitamos establecer los parámetros de la función `report`.\n",
    "\n",
    "Veamos un ejemplo en el que le indicamos que queremos resolver las instancias e1-e5 utilizando búsqueda en anchura, en profundidad (limitada)."
   ]
  },
  {
   "cell_type": "code",
   "execution_count": null,
   "id": "2b6715a9",
   "metadata": {},
   "outputs": [],
   "source": [
    "report((breadth_first_search,  depth_limited_search), (e1, e2, e3, e4, e5))"
   ]
  },
  {
   "cell_type": "markdown",
   "id": "940375b4",
   "metadata": {},
   "source": [
    "❓ **Pregunta 6**. Ejecuta la comparación de las anteriores estrategias de búsqueda y responde a las siguientes cuestiones de manera justificada en relación a las medidas obtenidas.\n",
    "\n",
    "- 6.1) Explica brevemente qué significan los indicadores *nodes y cost* que muestra la salida de `report`.\n",
    "\n",
    "- 6.2) Discute de manera justificada el rendimiento de los algoritmos en términos del coste del camino/solución y el número de nodos explorados.\n",
    "\n",
    "- 6.3) Crea un conjunto de instancias que puedan resolverse mediante la estrategia búsqueda primero en profundidad, y realiza la comparativa. Discute los resultados.\n"
   ]
  },
  {
   "cell_type": "code",
   "execution_count": null,
   "id": "f5c79681",
   "metadata": {},
   "outputs": [],
   "source": [
    "# Aquí tu código de pruebas\n",
    "\n"
   ]
  },
  {
   "cell_type": "markdown",
   "id": "f2da79a0-22d6-4cc5-af33-d605db7649b8",
   "metadata": {},
   "source": [
    "\n",
    "# El problema de Viajante de Comercio (VC)"
   ]
  },
  {
   "cell_type": "markdown",
   "id": "4d03d1e3",
   "metadata": {},
   "source": [
    "\n",
    "El objetivo de este bloque es modelar e implementar un agente inteligente que sea capaz de resolver\n",
    "el problema del VC mediante estrategias de búsqueda A*, haciendo uso de AIMA como te has familiarizado anteriormente.\n",
    "\n",
    "\n",
    "### Definición del problema\n",
    "\n",
    "El problema del viajante de comercio (VC) es el problema de la persona que quiere vender un producto, y que para ello quiere encontrar el viaje más corto posible a través de las ciudades de los clientes, haciendo una única visita a cada una, empezando y acabando el recorrido en su propia ciudad (recorrido circular desde la ciudad inicial).\n",
    "\n",
    "Típicamente, el problema parte de una representación mediante un grafo ponderado G=(N, A), donde N es el conjunto de n=|N| nodos (ciudades), y siendo A el conjunto de arcos conectando los nodos. Cada arco (i, j) ∈ A tiene asignado un peso d_ij que representa la distancia entre las ciudades i y j.\n",
    "\n",
    "Para facilitar vuestra labor de implementación, os proporcionamos la clase `Localizaciones`, que permite cargar las localizaciones GPS que representan los vértices del grafo G de N ciudades, y permite calcular de manera transparente la distancia entre cualquier par de ciudades usando la fórmula del semiverseno (https://es.wikipedia.org/wiki/F%C3%B3rmula_del_semiverseno), que sirve para calcular las distancias teniendo en cuenta la curvatura de la Tierra.\n"
   ]
  },
  {
   "cell_type": "markdown",
   "id": "3e3dd59f",
   "metadata": {},
   "source": [
    "Inspecciona el código de carga de localizaciones mediante `psource(Localizaciones)`"
   ]
  },
  {
   "cell_type": "code",
   "execution_count": null,
   "id": "9ed45d81",
   "metadata": {},
   "outputs": [],
   "source": [
    "psource (Localizaciones)"
   ]
  },
  {
   "cell_type": "markdown",
   "id": "9cf9c459",
   "metadata": {},
   "source": [
    "Fíjate que por defecto se carga el fichero `./data/grafo8cidades.txt`, que contiene las coordenadas GPS de 8 ciudades gallegas, siendo Santiago de Compostela la primera de ellas. La primera línea de estos ficheros indica el número de ciudades n, mientras que cada una de las líneas sucesivas especifican las coordenadas de cada ciudad, especificadas como coordenadas GPS (latitud y longitud en grados).\n",
    "\n",
    "Fíjate que las distancias en Google Maps van a ser más largas que las nuestras pues nosotros solo tenemos en cuenta la curvatura de la tierra en línea recta mientras que el servicio de mapas toma en cuenta otros aspectos relevantes sobre la existencia de carretera o vía así como otras características geográficas. \n",
    "\n",
    "![8cidades.png](./img/8cidades.png)\n",
    "\n",
    "Puedes cargar otro fichero haciendo uso del parámetro `filename` como se muestra a continuación."
   ]
  },
  {
   "cell_type": "code",
   "execution_count": null,
   "id": "c979674b",
   "metadata": {},
   "outputs": [],
   "source": [
    "g1=Localizaciones(filename='./data/grafo8cidades.txt')\n",
    "print (g1.distancia(0,1))\n",
    "g2=Localizaciones(filename='./data/grafos10_10/grafo_1.txt')\n",
    "print (g2.distancia(0,1))"
   ]
  },
  {
   "cell_type": "markdown",
   "id": "567a01a8",
   "metadata": {},
   "source": [
    "### Implementación del problema VC\n",
    "\n",
    "\n",
    "El VC se reduce al problema de crear el circuito Hamiltoniano de longitud mínima sobre el grafo G. La solución a una instancia del problema del VC puede representarse como una permutación de los índices de las ciudades, donde lo importante es el orden de visita, que determinará el coste del viaje en términos de la distancia recorrida total. \n",
    "\n",
    "De este modo, el problema pertenece a la categoría de problemas NP, pues puede haber n permutaciones que se corresponden al espacio de búsqueda posible. Esto hace que resolver instancias de problemas con muchas ciudades (n grande) haga el problema impracticable y éste pueda beneficiarse de búsquedas informadas, que guíen inteligentemente el proceso para reducir el espacio de búsqueda y por tanto el esfuerzo computacional.\n",
    "\n",
    "Véamos cómo podríamos plantear nuestra implementación del VC. Para hacer la explicación más manejable, supongamos que tomamos las 4 primeras ciudades de nuestro problema de las 8 ciudades gallegas.\n",
    "\n",
    " ![4cidades.png](./img/4cidades.png)\n",
    "\n",
    "\n",
    "En primer lugar necesitamos determinar una representación adecuada de nuestros estados en el espacio de búsqueda. Aunque se puede hacer de varias formas, una forma razonable sería disponer de una tupla cuyos elementos serían los índices de la ciudades según el orden en que han sido visitadas. \n",
    "\n",
    "Por ejemplo, la tupla (0, 1, 3, 2 , 0) representaría un estado que indicaría el siguiente camino: Santiago de Compostela- A Coruña - Lugo - Villalba - Santiago de Compostela. Fíjate que dicho camino es realmente un ciclo, pues la primera y última ciudad son la 0, Santiago de Compostela, y por tanto, podría ser un estado meta. Viendo el mapa de ejemplo, sabemos que pueden haber varios estados meta, y el que sería considerado como solución óptima correspondería a la secuencia (0, 1, 2, 3, 0).\n",
    "\n",
    "Cabe hacerse ahora algunas preguntas clave. ¿Inicialmente dónde estamos y cuántas ciudades hemos visitado? Efectivamente, de partida estaremos en la ciudad 0, y no habremos visitado ninguna otra ciudad todavía, así que podríamos representar nuestro estado inicial como (0,). \n",
    "\n",
    "¿Y si entonces visitamos una segunda ciudad? Pues podríamos ir a A Coruña (1), Villalba (2) o a Lugo (3), lo que daría lugar a los siguientes estados sucesores (0, 1), (0, 2) o (0, 3) respectivamente. \n",
    "\n",
    "Imagina que nuestra estrategia selecciona A Coruña. En ese caso, el estado resultante sería (0, 1). A partir de este, nota que los sucesores serían (0, 1, 2) y/o (0, 1, 3), fruto de considerar las otras dos ciudades que no han sido todavía visitadas. Debes fijarte que en estos casos, los estados representan la secuencia de índices mediante una tupla de forma que se va construyendo paso a paso. Y cabe destacar que sabemos que no son estados meta porque no han visitado todas las ciudades y cerrado el ciclo todavía."
   ]
  },
  {
   "cell_type": "markdown",
   "id": "5181fc17",
   "metadata": {},
   "source": [
    "A continuación mostramos un árbol de búsqueda representando nuestro espacio de búsqueda. Reflexiona lo que representan los nodos y los arcos. En el caso del VC, ¿dónde representarías el coste del camino? Piénsalo, e indicalo en la pregunta 5 cuando explicas tu implementación.\n",
    "\n",
    "![](./img/arbolbusqueda.png)"
   ]
  },
  {
   "cell_type": "markdown",
   "id": "5e2d029a",
   "metadata": {},
   "source": [
    "❓ **Pregunta 7**. Implementa el problema del Viajante de Comercio siguiendo las indicaciones y responde a las cuestiones correspondientes.\n",
    "\n",
    "Tu implementación `ProblemaViajanteComercio` debe extender la clase `Problem` y sobreescribir los métodos `actions, result, is_goal, action_cost` según la representación del estado discutida arriba. \n",
    "Por el momento, considera el grafo de las 8 ciudades gallegas y una implementación nula de la heurística, h=0, puesto que por el momento sólamente vas a utilizar las estrategias de búsqueda no informada o a ciegas. \n",
    "\n",
    "- 7.1) Explica cómo has implementado los operadores así como el modelo de transición que gobierna la expansión o generación de sucesores de los estados en el espacio de búsqueda. Explica brevemente cuáles han sido los aspectos clave en tu implementación de `actions, result, is_goal, action_cost`.\n",
    "- 7.2) Verifica la correctitud de tu implementación resolviendo varias instancias del problema del 8-puzzle mediante las estrategias no informadas vistas en este tutorial. Haz una tabla donde muestres los nodos y el coste del camino obtenido para problema del Viajante de Comercio.\n"
   ]
  },
  {
   "cell_type": "code",
   "execution_count": null,
   "id": "9dc5636a",
   "metadata": {},
   "outputs": [],
   "source": [
    "# Celda asociada a Pregunta 7\n",
    "# Completa la implementación\n",
    "\n",
    "class ProblemaViajanteComercio(Problem):\n",
    "    \"\"\" Problema Viajante de Comercio\n",
    "    \"\"\"    \n",
    "\n",
    "    def __init__(self, initial):\n",
    "        self.initial = initial\n",
    "    \n",
    "    def actions(self, state):\n",
    "        \"\"\"devuelve la lista de ciudades no visitadas como acciones potenciales.\"\"\"  \n",
    "        # ToDo\n",
    "        return []\n",
    "    \n",
    "    def result(self, state, action):\n",
    "        \"\"\"produce el nuevo estado al anadir la accion seleccionada\"\"\"                                      \n",
    "        # ToDo        \n",
    "        return state\n",
    "    \n",
    "    def is_goal(self, state):        \n",
    "        # ToDo\n",
    "        return False\n",
    "    \n",
    "    def action_cost(self, s, action, s1):\n",
    "        \"\"\"The distance (cost) to go from s to s1.\"\"\"        \n",
    "        # ToDo\n",
    "        return 0   \n",
    "    \n",
    "    def h(self, node): \n",
    "        # ToDo\n",
    "        return 0\n",
    "    "
   ]
  },
  {
   "cell_type": "code",
   "execution_count": null,
   "id": "d28f4005",
   "metadata": {},
   "outputs": [],
   "source": [
    "# Celda asociada \n"
   ]
  },
  {
   "cell_type": "markdown",
   "id": "2c23e927",
   "metadata": {},
   "source": [
    "**************************************************************"
   ]
  },
  {
   "cell_type": "markdown",
   "id": "7f65f96d",
   "metadata": {},
   "source": [
    "# Respuestas a los ejercicios y evaluación"
   ]
  },
  {
   "cell_type": "markdown",
   "id": "03c8cdc2",
   "metadata": {},
   "source": [
    "**RECUERDA:** No te olvides de escribir tu nombre y apellidos en la segunda celda del presente documento."
   ]
  },
  {
   "cell_type": "markdown",
   "id": "0f7b1cdf",
   "metadata": {},
   "source": [
    "Incluye las celdas que consideres oportunas para que sea legible. Incluye la formulación de las preguntas para una mejor comprensión y facilitar su corrección.\n",
    "\n",
    "La práctica se evaluará mediante un cuestionario automático de evaluación. El cuestionario automático de evaluación se realiza normalmente en la primera sesión de la próxima práctica, y se centrará en la resolución por tu parte de diversas cuestiones prácticas relacionadas tanto con los aspectos conceptuales como de implementación de tu práctica, pudiendo ser necesaria la ejecución, adaptación y modificación de la misma durante la duración de la prueba. \n",
    "\n",
    "Independientemente del cuestionario automático de evaluación, las preguntas planteadas deben responderse en el notebook de manera clara y precisa. Esas preguntas generales están diseñadas para formarte, y te servirán para razonar y reflexionar sobre el tema, así como también para fomentar una discusión constructiva con los docentes durante las sesiones. No se dará por superada la práctica si las respuestas en el notebook no son adecuadas. \n",
    "\n",
    "Recuerda que el plagio/copia completa o parcial de prácticas de otros compañeros acarrea no solo el suspenso de la práctica en curso sino también de la asignatura en dos convocatorias."
   ]
  },
  {
   "cell_type": "markdown",
   "id": "09ed9819",
   "metadata": {},
   "source": [
    "**************************************************************"
   ]
  }
 ],
 "metadata": {
  "kernelspec": {
   "display_name": "Python 3 (ipykernel)",
   "language": "python",
   "name": "python3"
  },
  "language_info": {
   "codemirror_mode": {
    "name": "ipython",
    "version": 3
   },
   "file_extension": ".py",
   "mimetype": "text/x-python",
   "name": "python",
   "nbconvert_exporter": "python",
   "pygments_lexer": "ipython3",
   "version": "3.11.10"
  }
 },
 "nbformat": 4,
 "nbformat_minor": 5
}
