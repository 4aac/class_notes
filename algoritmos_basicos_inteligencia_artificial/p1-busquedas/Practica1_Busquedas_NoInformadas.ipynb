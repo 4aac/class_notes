{
 "cells": [
  {
   "cell_type": "markdown",
   "id": "7b82b496",
   "metadata": {},
   "source": [
    "# Práctica 1: Búsquedas en espacios de estados. Búsquedas no informadas.\n",
    "* versión 1.0 (3 Feb 25)"
   ]
  },
  {
   "cell_type": "markdown",
   "id": "79c2ecc7",
   "metadata": {},
   "source": [
    "<center><h3>\n",
    "    Asier Acuña Casal\n",
    "</h3></center>"
   ]
  },
  {
   "cell_type": "markdown",
   "id": "598f51aa",
   "metadata": {},
   "source": [
    "## Instrucciones"
   ]
  },
  {
   "cell_type": "markdown",
   "id": "afad4a70",
   "metadata": {},
   "source": [
    "Esto es **Jupyter Notebook**, un documento que integra código Python en un archivo Markdown.\n",
    "Esto nos permite ir ejecutando celdas de código poco a poco, así como generar automáticamente un informe bien formateado de la práctica.\n",
    "\n",
    "Puedes añadir una celda con el botón **\"Insert\"** de la barra de herramentas, y cambiar su tipo con **\"Cell > Cell Type\"**\n",
    "\n",
    "Para ejecutar una celda de código, la seleccionaremos y pulsaremos el botón **\"▶ Run\"** de la barra de herramentas.\n",
    "Para pasar el documento a HTML, seleccionaremos **\"File > Download as > HTML (.html)\"**\n",
    "\n",
    "Sigue este guión hasta el final. Ejecuta el código proporcionado paso a paso comprendiendo lo que estás haciendo y reflexionando sobre los resultados. Habrá preguntas intercaladas a lo largo del guión, responde a todas ellas en la sección reservada para ese fin: **\"Respuestas a los cuestionarios\"**. Por favor, no modifiques ninguna linea de código excepto cuando se te pida explícitamente.\n",
    "\n",
    "No olvides insertar tu **nombre y apellidos** en la celda superior.\n",
    "\n",
    "Recuerda que esta práctica está planificada para **3 sesiones** (Semanas 2, 3, y 4) y a lo largo de todas ellas se discutirán grupalmente parte de las preguntas y problemas. "
   ]
  },
  {
   "cell_type": "markdown",
   "id": "5d5326d6",
   "metadata": {},
   "source": [
    "## Entrega de la práctica"
   ]
  },
  {
   "cell_type": "markdown",
   "id": "ff17c95b",
   "metadata": {},
   "source": [
    "La fecha límite de entrega será la indicada en el Campus Virtual. La entrega consistirá de un único archivo comprimido con nombre `APELLIDOS_NOMBRE_Busquedas_noinformada.zip` que contenga los seguientes ficheros:\n",
    "\n",
    " * `APELLIDOS_NOMBRE_Busqueda_noinformada.html`: Archivo HTML fruto de la exportación del presente Notebook, con las preguntas respondidas al final del documento.\n",
    " * `APELLIDOS_NOMBRE_Busqueda_noinformada.ipynb`: Archivo fuente Jupyter Notebook.\n",
    " * Resto de archivos de códigos y datos que sean necesario para reejecutar tu práctica."
   ]
  },
  {
   "cell_type": "markdown",
   "id": "b854c145-328a-4d42-8219-975bb9b3a019",
   "metadata": {},
   "source": [
    "# Búsquedas en espacios de estados"
   ]
  },
  {
   "cell_type": "markdown",
   "id": "2a66615a-1f0c-4ca2-8680-24ab07b65906",
   "metadata": {},
   "source": [
    "El libro de consulta de referencia para esta práctica interactiva es el \"Artificial Intelligence: A Modern Approach.\" (conocido como AIMA http://aima.cs.berkeley.edu/) de Russell y Norvig. En particular, el [capítulo 3](http://aima.cs.berkeley.edu/4th-ed/pdfs/newchap03.pdf) ofrece una panorámica completa sobre técnicas clásicas de resolución de problemas basadas en búsqueda en espacios de estados. En esta primera parte de la práctica interactiva, vamos a centrarnos en revisar dos estrategias de búsqueda no-informada o ciega utilizadas para resolver problemas de búsqueda en espacios de estados (búsqueda en anchura, búsqueda en profundidad), y trabajarás sobre el problema de 8-Puzzle introducido en la expositiva. "
   ]
  },
  {
   "cell_type": "markdown",
   "id": "f01068f5-6623-45ef-b37d-2830b879f06b",
   "metadata": {},
   "source": [
    "## El problema del 8-Puzzle\n",
    "\n",
    "![](https://ece.uwaterloo.ca/~dwharder/aads/Algorithms/N_puzzles/images/puz3.png)\n",
    "\n",
    "El problema del 8-puzzle se plantea como un tablero 3x3 que contiene ocho fichas numeradas que se\n",
    "pueden mover gracias a que una de las posiciones contiene un espacio en blanco o hueco. El objetivo\n",
    "del juego es alcanzar el estado meta o objetivo indicado partiendo de un estado inicial dado, limitándose a\n",
    "realizar movimientos permitidos del blanco. Una solución, entendida como un proceso de resolución, viene dada\n",
    "por la secuencia de acciones o pasos que permiten alcanzar el estado meta.\n",
    "\n",
    "Este problema forma parte de la familia de puzzles o rompecabezas de piezas deslizantes, que\n",
    "pertenecen a la categoría de problemas NP. Tallas del problema más grandes, esto es, tableros con\n",
    "mayor número de fichas puede hacer su resolución impracticable. Aun así, el 8-puzzle es útil para\n",
    "probar algoritmos que implementen estrategias de búsqueda como los que utilizarás en esta práctica\n",
    "pues se puede resolver en unos milisegundos a pesar de los 9!/2=181440 estados alcanzables.\n",
    "\n",
    "\n",
    "Para familiarizarte con el problema, juega unas pocas partidas para resolver este **Juego 8-Puzzle online** disponible [aquí](https://appzaza.com/slide-puzzle/3x3) teniendo en cuenta que el estado meta es ![](./img/goal_default.png). Deberás pulsar el botón `New Game` para inciar cada nueva partida. \n",
    "\n",
    "¡A jugar! Aproximadamente 5-10 minutos... :-D\n"
   ]
  },
  {
   "cell_type": "markdown",
   "id": "a2fcf5b9-0f35-45f5-b240-55ad527e0648",
   "metadata": {},
   "source": [
    "❓ **Pregunta 1**. Tras haber jugado (y así refrescado tus habilidades), aproximemos informalmente el problema mediante la resolución de los siguientes escenarios. Piensa cómo resolverías las configuraciones iniciales indicadas abajo y responde a las diferentes cuestiones. Si es necesario dibuja la secuencia de estados y operadores aplicados.\n",
    "\n",
    "Configuraciones iniciales:\n",
    "\n",
    "A) ![](./img/paso1.png)\n",
    "B) ![](./img/pasos2b.png)\n",
    "C) ![](./img/pasos2.png)\n",
    "\n",
    "- 1.1) Indica la cadena de operadores realizada para alcanzar el estado meta. Representa en cada caso los diferentes estados que se van alcanzando en tu estrategia.\n",
    "- 1.2) Explica qué conjunto de operadores has considerado y utilizado. ¿Todos tus operadores eran aplicables en cualquiera de los estados que has representado? Justifica tu respuesta.\n",
    "- 1.3) ¿En algunos de las configuraciones tuviste que tener en cuenta varias alternativas? ¿Las tuviste que representar/dibujar? Si es el caso, documenta lo que hicieras en una celda Markdown.\n"
   ]
  },
  {
   "cell_type": "markdown",
   "id": "bd1fed84-9b4e-44a6-96cc-00c248dc6401",
   "metadata": {},
   "source": [
    "# EJERCICIO 1\n",
    "\n",
    "## 1.1) \n",
    "\n",
    "*Para realizar este ejercicio entenderemos el tablero como un array de nueve elementos numerados del 0 al 8 ({0,1,2,3,4,5,6,7,8}), donde, por ejemplo, si nos fijamos en el tablero A: la posición 0 coincide con la ficha 1 y la posición 8 coincide con la ficha 6.*\n",
    "\n",
    "### Caso A\n",
    "<img src=\"./img/practica1_ejercicio11_juegoA.jpg\" width=\"300\"/>\n",
    "\n",
    "En el primer caso, solo se necesita una única operación: mover la pieza en posición 8 (número 6) hacia arriba. El proceso se desarrolla en dos estados, el estado inicial muestra el número 6 en la posición inferior derecha del tablero, mientras que el estado meta se alcanza simplemente moviendo esta pieza una posición hacia arriba.\n",
    "\n",
    "### Caso B\n",
    "<img src=\"./img/practica1_ejercicio11_juegoB.jpg\" width=\"500\"/>\n",
    "\n",
    "Para el segundo caso, la requerimos dos operaciones distintas. Primero, movemos la pieza en posición 5 hacia la izquierda, generando un estado intermedio. Después, desplazamos la pieza en posición 8 hacia arriba para alcanzar el estado meta. Este proceso se desarrolla a través de tres estados: el inicial, el intermedio tras el primer movimiento, y el estado meta final.\n",
    "\n",
    "### Caso C\n",
    "<img src=\"./img/practica1_ejercicio11_juegoC.jpg\" width=\"500\"/>\n",
    "\n",
    "El tercer caso también vuelve a necesitar dos movimientos, pero con una secuencia diferente. Inicialmente, se mueve la pieza en posición 5 hacia arriba, seguido por el desplazamiento de la pieza en posición 8 también hacia arriba. Al igual que en el caso B, el proceso sigue tres estados: el inicial, un estado intermedio después del primer movimiento en vertical, y el estado meta final.\n",
    "\n",
    "## 1.2) \n",
    "\n",
    "En el diseño de la solución, he considerado un conjunto de cuatro operadores básicos: movimientos hacia arriba, abajo, derecha e izquierda. Sin embargo, para resolver los casos presentados, solo fue necesario utilizar dos de estos operadores: el movimiento hacia arriba y el movimiento hacia la izquierda.\n",
    "\n",
    "Cabe destacar que no todos los operadores se podían aplicar en cada estado del juego. En cada estado, dependiendo de la posición de la ficha que decidiésemos mover, podíamos encontrarnos con varias restricciones: la posición actual de la pieza en el tablero, la presencia de otras piezas que pudieran bloquear el movimiento, y los límites del propio tablero. Por ejemplo, en el caso A, el estado inicial tiene limitaciones claras, como la pieza 6 en la posición 8 que no puede moverse ni hacia abajo ni hacia la derecha por encontrarse en las esquinas del tablero.\n",
    "\n",
    "## 1.3) \n",
    "\n",
    "La resolución de estos casos fue relativamente directa, puesto que existía una conexión entre los casos: los estados intermedios de los casos B y C coinciden con el estado inicial del caso A.\n",
    "\n",
    "La única decisión importante que tuve que valorar fue la elección inicial del enfoque: determinar si se consideraría el movimiento de las piezas numeradas o el movimiento del espacio en blanco. Personalmente, me decanté por el movimiento de las piezas numeradas, lo que bajo mi punto de vista resultó en una representación más entendible del problema.\n",
    "\n",
    "Es importante mencionar que el enfoque utilizado fue siguiendo el razonamiento humano directo hacia el objetivo, en lugar de aplicar algoritmos como BFS o DFS que serían más propios de un enfoque de un computador. Por último, debido a la claridad de los movimientos necesitados y la simplicidad de las soluciones, no fue necesario representar estados adicionales o explorar múltiples alternativas de solución.\n",
    "\n",
    "---\n",
    "<br>"
   ]
  },
  {
   "cell_type": "markdown",
   "id": "da89cba1-770b-485c-8e9d-9dce10e8121e",
   "metadata": {},
   "source": [
    "Cabe destacar que las anteriores configuraciones eran muy sencillas y seguramente las habéis podido resolver casi mentalmente, con tan solo observar detenidamente la configuración inicial. En realidad, la cuestión a plantearse ahora es si has seguido una estrategia a ciegas o si habéis usado vuestro conocimiento del problema para dirigir mejor el conjunto de operadores y estados que realmente os acercaba a resolver el problema. Con total seguridad habéis aplicado vuestra *inteligencia natural*, que en ocasiones, no es sencilla de explicar. \n",
    "\n",
    "Sin embargo, en el caso de la *inteligencia artificial*, cuando queremos resolver problemas de búsqueda en espacios de estados como este, lo que se necesita son estrategias que sistemáticamente exploren el espacios de estados posibles y determinen una vez alcanzado un estado meta cuál es la secuencia de operadores que llevó a la solución. \n",
    "\n",
    "Dentro de ese conjunto de estrategias existe una categoría conocida como `búsquedas \"no-informadas\" o \"a ciegas\"`, entre las que se encuentran la *búsqueda en anchura/amplitud* y la *búsqueda en profundidad*. Estas estrategias se caracterizan por expandir el espacio de búsqueda, precisamente, de manera ciega, y explorarlo sistemáticamente siguiendo siempre el mismo criterio hasta encontrar un estado meta. \n",
    "\n",
    "Las siguiente dos figuras ilustran de manera abstracta el caso de un problema en el que se expanden los estados sucesores formando un árbol/grafo, que será el espacio de búsqueda de estados. Observa que ambas estrategias de búsqueda pueden desplegar exactamente el mismo árbol/grafo cuando los operadores sean los mismos. La diferencia por tanto radica en el orden de exploración de los estados. En el caso de la búsqueda en anchura, el recorrido se realiza por niveles, mientras que en la búsqueda en profundidad el recorrido se produce en vertical, profundizando, y sólo pasando a otra rama cuando ha completado la actual.\n",
    "\n",
    "\n",
    "**Esquema de búsqueda en anchura/amplitud.**\n",
    "\n",
    "![](./img/abstracta_anchura.png)\n",
    "\n",
    "**Esquema de búsqueda en profundidad.**\n",
    "\n",
    "![](./img/abstracta_profundidad.png)\n"
   ]
  },
  {
   "cell_type": "markdown",
   "id": "fb73bbd2-b9ec-4f63-b42e-2a9f552d94a2",
   "metadata": {},
   "source": [
    "Véamos cómo se construye nuestro espacio de búsqueda para un ejemplo concreto. \n",
    "\n",
    "❓ **Pregunta 2**. Dado el estado inicial indicado anteriormente:\n",
    "- Dibuja a mano el espacio de estados que resultaría de expandir al menos 2 niveles completos. Aplica siempre los operadores en el mismo orden (p.ej., &larr;, &rarr;, &uarr;, &darr;) y representa en cada arco el operador que corresponda. Si fuera necesario añade nodos de manera justificada.\n",
    "- Indica cuál podría ser el orden de visita de cada estado según se utilice una estrategia de búsqueda primero en anchura, o búsqueda en profundidad. Razona si cambiaría el orden de visita si se aplican los operadores en un orden diferente al que aplicaste arriba.\n",
    "\n",
    "   ![](./img/tree2.png)\n",
    "   "
   ]
  },
  {
   "attachments": {},
   "cell_type": "markdown",
   "id": "89ec7002-79ac-4696-8742-c014bfc7551a",
   "metadata": {},
   "source": [
    "# EJERCICIO 2\n",
    "\n",
    "## **2.1)**\n",
    "*Cabe recalcar, que a diferencia del ejercicio anterior, en este ejercicio usaremos como operadores los movimientos de la ficha no numerada*\n",
    "<img src=\"./img/practica21.jpg\" width=\"1000\"/>\n",
    "\n",
    "## **2.2)**\n",
    "*En mi caso, la solución es encontrada en el segundo estado independientemente del recorrido, es por eso que he marcado en gris los estados que se recorrerían si aplicasemos el algoritmo para recorrer todo el árbol, viendo así el ejercicio más claramente.*\n",
    "<img src=\"./img/practica22A.jpg\" width=\"1000\"/>\n",
    "<img src=\"./img/practica22B.jpg\" width=\"1000\"/>\n",
    "\n",
    "<p>Si se usasen los operadores en un orden distinto, cambiaría el orden de visita. En mi caso, al usar como primer operador el operado hacia abajo, en ambas búsquedas se consigue el estado meta en el segundo estado. Sin embargo, con otros movimientos (como el movimiento hacia la izquierda) no se llegaría a un estado meta en el segundo estado, sino que habría que recorrer varios estados intermedios hasta llegar el meta. O, por el contrario, si se utilizase el operador hacia la derecha, no daría lugar a ningún estado, puesto que no es posible usar el operador debido a las limitaciones físicas del tablero.</p>\n",
    "\n",
    "---\n",
    "<br>"
   ]
  },
  {
   "cell_type": "markdown",
   "id": "5392d18a-79a1-4bf2-bd47-154161ad24ff",
   "metadata": {},
   "source": [
    "Tras el ejercicio manual anterior, habrás notado que puede ser laborioso o incluso poco práctico representar todo el espacio cuando las instancias del puzzle a resolver requiere soluciones de más de 1-2 movimientos. Para seguir examinando cómo funciona estas estrategias de búsqueda, ahora utiliza el **simulador RMIT-Búsquedas-8Puzzle** que se encuentra accesible online [aquí](https://tristanpenman.com/demos/n-puzzle/) para hacer trazas.\n",
    "\n",
    "1) Edita los estados inicial y meta para que sean como en la siguiente figura:\n",
    "   \n",
    "   ![](./img/demo_primera_configuracion.png)\n",
    "2) Selecciona el método de búsqueda primero en anchura y modo de control \"Single-step\".\n",
    "\n",
    "3) Pulsa el botón \"Start\" para inicializar la búsqueda.\n",
    "\n",
    "4) Observa la visualización del árbol, prestando atención al contenido de los nodos, y pulsa sucesivamente en el botón \"Next\" para estudiar su expansión.\n",
    "\n",
    "5) Una vez finalice la búsqueda, realiza una captura de pantalla de la visualización resultante y ponla en una celda de markdown a continuación.\n",
    "\n",
    "Repite el proceso pero en esta ocasión utilizando el método de búsqueda primero en profundidad.\n",
    "\n",
    "Nota: Habrían otros simuladores similares disponibles (p.ej., https://deniz.co/8-puzzle-solver/). No obstante, ten en cuenta que las trazas pueden diferir debido a diferencias en la implementación del orden de los operadores que aplica el algoritmo de búsqueda."
   ]
  },
  {
   "cell_type": "markdown",
   "id": "f4b31c71-2663-4427-a8aa-1f652ba47aa0",
   "metadata": {},
   "source": [
    "*Pegar aquí la visualización resultante de la búsqueda en anchura* \n",
    "\n",
    "\n",
    "*Pegar aquí la visualización resultante de la búsqueda en profundidad* \n",
    "\n"
   ]
  },
  {
   "cell_type": "markdown",
   "id": "4acfca27-b6e3-46b8-87c3-d1b9c257fac4",
   "metadata": {},
   "source": [
    "❓ **Pregunta 3**. Utilizando el simulador RMIT, inspecciona las trazas para las estrategias de búsqueda primero en anchura y primero en profundidad para la configuraciones iniciales A), B), C).\n",
    "\n",
    "- 3.1) ¿Coincide la traza que hiciste manualmente en la Pregunta 2 con la traza automática para las configuraciones **A** y **C**)? Explica lo que observas y justifica su funcionamiento y posibles diferencias.\n",
    "- 3.2) Consulta el material de teoría de las sesiones expositivas sobre completitud y optimalidad. ¿Qué significa que una estrategia de búsqueda sea completa? ¿Y qué significa que sea óptima?\n",
    "- 3.3) Fíjate cuántos nodos se han expandido para resolver las configuración **A** y **C**) en sendas estrategias utilizadas hasta el momento. ¿Dirías que las soluciones obtenidas son óptimas? Para esas instancias del problema, ambas estrategias han encontrado una solución, ¿qué dirías sobre su eficiencia, alguna sería más eficiente que la otra o serían igualmente eficientes? ¿podemos decir que ambas sean igualmente óptimas o alguna es más óptima que otra? ¿Alguna de las estrategías o ambas podría decirse que es/son estrategia/s de búsqueda óptimas de acuerdo a lo visto en la sesión expositiva? Justifica tus respuestas.\n",
    "- 3.4) En base a las trazas realizadas y lo que conoces sobre las estrategías de búsqueda primero en anchura y primero en profundidad para resolver el problema del 8-Puzzle, razona para cada una ellas si sería Completa y Óptima. Justifica tus respuestas.\n",
    "\n",
    "Documenta adecuadamente para justificar tus respuestas a las preguntas anteriores.\n"
   ]
  },
  {
   "cell_type": "markdown",
   "id": "190a9f02-089a-40a5-a6b7-8f9dc75a7118",
   "metadata": {},
   "source": [
    "# EJERCICIO 3\n",
    "\n",
    "## 3.1) \n",
    "\n",
    "En mi caso, la traza manual no coincide exactamente con la traza generada automáticamente en el simulador, debido a que el orden en el que se aplican los operadores es diferente.  \n",
    "Cuando realizo los recorridos manualmente, encuentro el estado meta con tan solo un operador en ambos algoritmos, pasando del estado inicial al estado final directamente. Esto se debe a que mi conjunto de operadores sigue el orden **abajo, arriba, izquierda y derecha**.  \n",
    "Sin embargo, en la simulación automática, los operadores se aplican en el orden **izquierda, derecha, arriba y abajo**, lo que provoca que la solución encontrada en la búsqueda en anchura (BFS) requiera cuatro movimientos, mientras que en la búsqueda en profundidad (DFS) solo se necesite un movimiento. \n",
    "\n",
    "Este comportamiento se puede observar en las siguientes trazas:  \n",
    "\n",
    "<div align=\"center\">\n",
    "<img src=\"./img/practica3A.jpg\" width=\"500\"/>\n",
    "</div>\n",
    "\n",
    "<p>Y en un estado para el DFS, tras haber generado otros dos intermedios, que no acabará recorriendo:</p>\n",
    "\n",
    "<div align=\"center\">\n",
    "<img src=\"./img/practica3B.jpg\" width=\"350\"/>\n",
    "</div>\n",
    "\n",
    "## 3.2) \n",
    "\n",
    "- **Completitud**: un algoritmo de búsqueda es completo si garantiza encontrar una solución siempre que exista una. Esto significa que, sin importar la configuración inicial, el algoritmo recorrerá el espacio de búsqueda hasta encontrar una solución válida.  \n",
    "- **Optimalidad**: un algoritmo es óptimo si siempre encuentra la mejor solución posible, es decir, aquella que minimiza el costo (solución óptima).  \n",
    "\n",
    "## 3.3) \n",
    "\n",
    "No podemos considerar que las soluciones obtenidas sean óptimas, ya que la solución más eficiente posible sería aquella que permite alcanzar el estado meta en un solo movimiento tras el estado inicial. En este caso particular, la búsqueda en profundidad (DFS) resulta más eficiente que la búsqueda en anchura (BFS), puesto que expande menos nodos:  \n",
    "\n",
    "- **DFS**: genera solo 3 nodos después de la raíz.  \n",
    "- **BFS**: genera un total de 10 nodos.  \n",
    "\n",
    "Sin embargo, aunque DFS es más eficiente en este problema, esto no significa que sea óptimo ni que siempre sea la mejor estrategia en otros casos. Es importante aclarar que un algoritmo puede ser óptimo o no serlo, pero no puede ser \"más óptimo\" que otro. Lo que sí se puede comparar es la eficiencia, es decir, cuántos nodos genera antes de encontrar la solución.  \n",
    "\n",
    "En términos generales:  \n",
    "\n",
    "- **BFS** es **completo** (siempre encuentra una solución si existe) y **óptimo**, ya que garantiza la solución con el menor número de movimientos.  \n",
    "- **DFS**, en cambio, **no es completo en espacios de búsqueda infinitos** (puede entrar en un bucle sin encontrar solución) y tampoco es óptimo, por el hecho de que devuelve la primera solución que encuentra sin garantizar que sea la mejor.  \n",
    "\n",
    "En este caso concreto, ninguna de las estrategias encuentra la mejor solución posible, por lo que no son óptimas. Sin embargo, DFS es más eficiente que BFS en términos de la cantidad de nodos generados.  \n",
    "\n",
    "## 3.4) \n",
    "\n",
    "Analizando el comportamiento de ambos algoritmos en este problema:  \n",
    "\n",
    "- **Búsqueda en anchura (BFS)**:  \n",
    "  - Es **completa**, ya que siempre encontrará una solución si existe un número finito de soluciones posibles.  \n",
    "  - Es **óptima** solo si todos los movimientos tienen el mismo costo, ya que garantiza la solución más cercana a la raíz. Debido a la exploración por niveles, BFS asegura que la primera solución encontrada será la que requiera el menor número de movimientos desde el estado inicial.\n",
    "\n",
    "- **Búsqueda en profundidad (DFS)**:  \n",
    "  - Es **completa** en espacios de búsqueda finitos (se debe implementar una función para detectar bucles infinitos), como en este caso, ya que eventualmente encontrará la solución.  \n",
    "  - No es **óptima**, porque puede devolver la primera solución encontrada sin garantizar que sea la mejor.  \n",
    "\n",
    "En este problema en particular, ambas estrategias fueron completas porque el número de soluciones era finito, pero ninguna fue óptima.  \n",
    "- **Completitud:**: la completitud es una propiedad algorítmica que nos garantiza que un método de búsqueda podrá encontrar una solución cuando esta existe en el espacio de estados del problema. \n",
    "- **Optimalidad:**: la optimalidad es la capacidad de un algoritmo para no solo encontrar una solución, sino para seleccionar la solución más eficiente (óptima) entre todas las posibles.\n",
    "\n",
    "---\n",
    "<br>"
   ]
  },
  {
   "cell_type": "markdown",
   "id": "73091a0c",
   "metadata": {},
   "source": [
    "## Introducción a AIMA-Python y búsquedas ciegas\n"
   ]
  },
  {
   "cell_type": "markdown",
   "id": "342bc92d",
   "metadata": {},
   "source": [
    "El libro de referencia AIMA viene con un conjunto de módulos Python que contiene muchos de los algoritmos implementados. Es por ello, que en la medida de lo posible utilizaremos sus implementaciones, que originalmente pueden consultarse en el repositorio de AIMA-Python https://github.com/aimacode/aima-python, y de los que hemos incorporado una copia adaptada a las necesidades de nuestra Asignatura en este boletín.\n",
    "\n",
    "A partir de ahora, para trabajar con los algoritmos de búsqueda relevantes, primero nos familiarizaremos con las clases y funciones clave que nos permitirá resolver problemas mediante estrategias de búsqueda vistas en las sesiones expositivas. Será entonces que trabajaremos con el problema del 8-puzzle, que has estado ya inspeccionando mediante el uso de un simulador. Tras revisar cómo se implementan las estrategias de búsqueda ciega, procederás a estudiar el uso de heurísticas que permiten la implementación de búsqueda informada, pudiendo entonces estudiar el comportamiento las mismas. Finalmente, utilizarás la librería para implementar soluciones para los problemas de las Torres de Hanoi y el Viajante de Comercio, estudiando los diversos algoritmos y las heurísticas consideradas.\n"
   ]
  },
  {
   "cell_type": "markdown",
   "id": "182d7e00",
   "metadata": {},
   "source": [
    "En primer lugar, debes importar los módulos python especialmente preparados para esta Práctica 1."
   ]
  },
  {
   "cell_type": "code",
   "execution_count": null,
   "id": "10bee327",
   "metadata": {},
   "outputs": [],
   "source": [
    "# contiene algoritmos de búsqueda implementado en AIMA\n",
    "from search_mod import *\n",
    "\n",
    "# algunas funciones auxiliares\n",
    "from helpers_mod import *"
   ]
  },
  {
   "cell_type": "markdown",
   "id": "22d0d290",
   "metadata": {},
   "source": [
    "Puedes consultar el código de algunas clases y funciones clave mediante el uso de `psource(symbol)`. Por ejemplo, `psource(Problem)` mostrará el código de la clase Problem. "
   ]
  },
  {
   "cell_type": "code",
   "execution_count": null,
   "id": "a0b56ef7",
   "metadata": {},
   "outputs": [],
   "source": [
    "psource(Problem)"
   ]
  },
  {
   "cell_type": "markdown",
   "id": "9e4079ae",
   "metadata": {},
   "source": [
    "Esta clase es fundamental pues, como mostraremos más abajo, se trata de una clase abstracta que puede extenderse para implementar la resolución de problemas concretos en base a los siguientes métodos:\n",
    "- actions(state): devuelve una lista de operadores o acciones que son aplicables al estado actual\n",
    "- result(state, action): devuelve el nuevo estado resultante de aplicar la acción action al estado state\n",
    "- is_goal(state): devuelve cierto sii se ha alcanzando un estado meta u objetivo\n",
    "- action_cost(s, action, s1): calcula el coste de aplicar la action para pasar del estado s al s1\n",
    "- h(node): función heurística que se emplea en estrategias informadas. En una estrategia no informada o a ciegas debería retornar 0.\n",
    "\n",
    "Cabe destacar que las estrategias de búsqueda se basan en búsquedas sobre grafos/árboles, y por lo tanto los algoritmos manejan nodos, que mantienen la relación entre los mismos, el coste del camino, y el estado que el nodo debe representar. De ahí, la clase `Node` tiene los atributos `state, parent, action, path_cost`."
   ]
  },
  {
   "cell_type": "markdown",
   "id": "df4325ae",
   "metadata": {},
   "source": [
    "Empieza por inspeccionar el código de las clases/funciones: `breadth_first_search, depth_first_recursive_search, depth_limited_search, expand, Problem, Node`."
   ]
  },
  {
   "cell_type": "code",
   "execution_count": null,
   "id": "288586dd",
   "metadata": {},
   "outputs": [],
   "source": [
    "psource(Node)\n",
    "psource(Problem)\n",
    "psource(breadth_first_search)\n",
    "psource(depth_first_recursive_search)\n",
    "psource(depth_limited_search)\n",
    "psource(expand)"
   ]
  },
  {
   "cell_type": "markdown",
   "id": "26e828c1",
   "metadata": {},
   "source": [
    "❓ **Pregunta 4**. Fíjate en la implementación de `breadth_first_search`, `depth_first_recursive_search`, y `depth_limited_search`. \n",
    "\n",
    "- 4.1) Observa y explica las similitudes (p.ej., existe un bucle que explora un conjunto de nodos que llama frontera (nodos pendientes), expande el nodo para producir los sucesores (nodos-hijo)...). \n",
    "\n",
    "- 4.2) Ahora indica las diferencias y explica cómo crees que esas diferencias determinan el comportamiento de entre estas estrategias de búsqueda. \n",
    "\n",
    "**Pista**: Fíjate en la estructura de datos para los nodos frontera, y consulta el pseudocódigo visto en las expositivas.\n"
   ]
  },
  {
   "cell_type": "markdown",
   "id": "7588aefd-d990-4948-b1c2-199bcd24365e",
   "metadata": {},
   "source": [
    "# EJERCICIO 4\n",
    "\n",
    "## 4.1) \n",
    "\n",
    "- Las tres funciones contienen una lista de nodos pendientes de explorar, que son los nodos frontera. En el BFS, la frontera es una cola FIFO (los nodos se exploran nivel por nivel); en DLS, la frontera es una cola LIFO (los explora en profundidad); por último, en DFRS, no tiene una frontera como tal, sino que es implícita de la propia recursividad aunque es similar a DLS.\n",
    "- En todos los algoritmos, el nodo actual se expande generando sucesores con la función expand(). Después, cada sucesor se revisa para ver si es una solución y si no lo es se añade a la frontera para explorar más tarde.\n",
    "- En BFS y DLS se usa la función is_goal() para comprobar si el nodo actual resuelve el problema. En DFRS, esto se comprueba al comienzo de la función recursiva.\n",
    "- Para hacerse cargo de los ciclos, BFS utiliza el conjunto reached para evitar visitar estados repetidos. DFRS usa is_cycle() para evitar los ciclos de exploración. Y DLS también usa is_cycle(), aunque está limitado por una profundidad máxima.\n",
    "\n",
    "## 4.2) \n",
    "\n",
    "- Existen diferencias en la estructura de datos de la frontera: BFS usa la cola FIFO para explorar los nodos más cercanos a la raíz, mientras que DLS usa la cola LIFO para explorar los nodos más recientes primero.\n",
    "- También hay diferencias en las estrategias de búsqueda. BFS es completo y nos garantiza encontrar la solución con el menor número de pasos. DFRS se puede quedar atrapado en ciclos (aunque la función is_cycle lo acabe evitando) o recorrer caminos en profundidad antes de encontrar una solución. DLS tiene un límite de profundidad, para evitar recorrer infinitos nodos, pero existe el riesgo de que se pierdan soluciones más profundas.\n",
    "- En cuanto a la memoria, BFS almacena muchos nodos, siendo muy costoso; DFRS solo almacena la rama actual en la pila, usando menos memoria pero con el riesgo de los ciclos; DLS usa la memoria similar a DLS, pero tiene una profundidad limitada.\n",
    "\n",
    "---\n",
    "<br>"
   ]
  },
  {
   "cell_type": "markdown",
   "id": "4ff18f83",
   "metadata": {},
   "source": [
    "Como ya adelantábamos, la clase `Problem` puede extenderse para resolver problemas particulares."
   ]
  },
  {
   "cell_type": "markdown",
   "id": "b97aabd4",
   "metadata": {},
   "source": [
    "La siguiente implementación permite usar los algoritmos de búsqueda que vienen implementados en AIMA-Python para resolver el problema del 8-puzzle (por el momento, ignora los métodos h que implementan heurísticas)."
   ]
  },
  {
   "cell_type": "code",
   "execution_count": null,
   "id": "0d2548d2",
   "metadata": {},
   "outputs": [],
   "source": [
    "class EightPuzzle(Problem):\n",
    "    \"\"\" The problem of sliding tiles numbered from 1 to 8 on a 3x3 board,\n",
    "    where one of the squares is a blank, trying to reach a goal configuration.\n",
    "    A board state is represented as a tuple of length 9, where the element at index i \n",
    "    represents the tile number at index i, or 0 if for the empty square, e.g. the goal:\n",
    "        1 2 3\n",
    "        4 5 6 ==> (1, 2, 3, 4, 5, 6, 7, 8, 0)\n",
    "        7 8 _\n",
    "    \"\"\"\n",
    "\n",
    "    def __init__(self, initial, goal=(1, 2, 3, 4, 5, 6, 7, 8, 0)):\n",
    "        assert inversions(initial) % 2 == inversions(goal) % 2 # Parity check\n",
    "        self.initial, self.goal = initial, goal\n",
    "    \n",
    "    def actions(self, state):\n",
    "        \"\"\"The indexes of the squares that the blank can move to.\"\"\"\n",
    "        moves = ((1, 3),    (0, 2, 4),    (1, 5),\n",
    "                 (0, 4, 6), (1, 3, 5, 7), (2, 4, 8),\n",
    "                 (3, 7),    (4, 6, 8),    (7, 5))\n",
    "        blank = state.index(0)\n",
    "        return moves[blank]\n",
    "    \n",
    "    def result(self, state, action):\n",
    "        \"\"\"Swap the blank with the square numbered `action`.\"\"\"\n",
    "        s = list(state)\n",
    "        blank = state.index(0)\n",
    "        s[action], s[blank] = s[blank], s[action]\n",
    "        return tuple(s)\n",
    "    \n",
    "    def h(self, node): return 0\n",
    "    \n",
    "\n",
    "def inversions(board):\n",
    "    \"The number of times a piece is a smaller number than a following piece.\"\n",
    "    return sum((a > b and a != 0 and b != 0) for (a, b) in combinations(board, 2))\n",
    "    \n",
    "    \n",
    "def board8(board, fmt=(3 * '{} {} {}\\n')):\n",
    "    \"A string representing an 8-puzzle board\"\n",
    "    return fmt.format(*board).replace('0', '_')\n",
    "\n"
   ]
  },
  {
   "cell_type": "code",
   "execution_count": null,
   "id": "c5268dd7",
   "metadata": {},
   "outputs": [],
   "source": [
    "class Board(defaultdict):\n",
    "    empty = '.'\n",
    "    off = '#'\n",
    "    def __init__(self, board=None, width=8, height=8, to_move=None, **kwds):\n",
    "        if board is not None:\n",
    "            self.update(board)\n",
    "            self.width, self.height = (board.width, board.height) \n",
    "        else:\n",
    "            self.width, self.height = (width, height)\n",
    "        self.to_move = to_move\n",
    "\n",
    "    def __missing__(self, key):\n",
    "        x, y = key\n",
    "        if x < 0 or x >= self.width or y < 0 or y >= self.height:\n",
    "            return self.off\n",
    "        else:\n",
    "            return self.empty\n",
    "        \n",
    "    def __repr__(self):\n",
    "        def row(y): return ' '.join(self[x, y] for x in range(self.width))\n",
    "        return '\\n'.join(row(y) for y in range(self.height))\n",
    "            \n",
    "    def __hash__(self): \n",
    "        return hash(tuple(sorted(self.items()))) + hash(self.to_move)"
   ]
  },
  {
   "cell_type": "markdown",
   "id": "1ee5e42c",
   "metadata": {},
   "source": [
    "Puedes crear instancias de problemas del 8-Puzzle de la siguiente forma:"
   ]
  },
  {
   "cell_type": "code",
   "execution_count": null,
   "id": "9203a6e8",
   "metadata": {},
   "outputs": [],
   "source": [
    "# Ejemplos de creación de instancias del problema del 8-puzzle\n",
    "e1 = EightPuzzle((1, 4, 2, 0, 7, 5, 3, 6, 8))\n",
    "e2 = EightPuzzle((1, 2, 3, 4, 5, 6, 7, 8, 0))\n",
    "e3 = EightPuzzle((4, 0, 2, 5, 1, 3, 7, 8, 6))\n",
    "e4 = EightPuzzle((7, 2, 4, 5, 0, 6, 8, 3, 1))\n",
    "e5 = EightPuzzle((8, 6, 7, 2, 5, 4, 3, 0, 1))\n"
   ]
  },
  {
   "cell_type": "markdown",
   "id": "d8f34c46",
   "metadata": {},
   "source": [
    "y puedes proceder a resolver el problema mediante la estrategia de búsqueda deseada de la siguiente manera, que retorna el Node correspondiente al estado solución"
   ]
  },
  {
   "cell_type": "code",
   "execution_count": null,
   "id": "a621d510",
   "metadata": {},
   "outputs": [],
   "source": [
    "# resolver una instancia particular con una estrategia de búsqueda concreta\n",
    "# retorna la solución, como una instancia de Node\n",
    "print(f'Resolver el problema {e1} con Búsqueda en Anchura')\n",
    "sol = breadth_first_search(e1)\n",
    "print (\"Nodo solución: \", sol)"
   ]
  },
  {
   "cell_type": "markdown",
   "id": "b962584d",
   "metadata": {},
   "source": [
    "Para este problema, como el nodo de la solución es sencillamente el nodo meta, y éste era una entrada al problema, no resulta muy informativo. Sin embargo, sí podemos consultar los atributos de dicho nodo e incluso obtener los movimientos que condujeron al estado objetivo desde el estado inicial. \n",
    "\n",
    "Veamos cómo puedes obtener esta información."
   ]
  },
  {
   "cell_type": "code",
   "execution_count": null,
   "id": "d61caff8",
   "metadata": {},
   "outputs": [],
   "source": [
    "# e imprimir informacion relevante utilizando los atributos y funciones siguientes\n",
    "print (f'Coste del camino: {sol.path_cost:d}')\n",
    "print (f'Estado solución: {sol.state:}')\n",
    "print (f'Estado solución (tablero):')\n",
    "print (board8(sol.state))\n",
    "print (f'Lista de acciones: {path_actions(sol)}')\n",
    "print (f'Numero de acciones en el camino: {len(path_actions(sol))}')\n",
    "print (f'Lista de estados:')\n",
    "print (path_states(sol))\n",
    "\n",
    "# lista de estados formateado\n",
    "for s in path_states(sol):\n",
    "    print(board8(s))"
   ]
  },
  {
   "cell_type": "markdown",
   "id": "1e5233dc",
   "metadata": {},
   "source": [
    "Además de ver la traza, puedes también inspeccionar el código de `path_actions` y `path_states` para ver su implementación con el objetivo de entender cómo funciona internamente."
   ]
  },
  {
   "cell_type": "code",
   "execution_count": null,
   "id": "9329df70",
   "metadata": {},
   "outputs": [],
   "source": [
    "psource(path_actions)\n",
    "psource(path_states)"
   ]
  },
  {
   "cell_type": "markdown",
   "id": "d00d54f0",
   "metadata": {},
   "source": [
    "❓ **Pregunta 5**. La clase EightPuzzle implementa el problema para el Puzzle, especificando la codificación del estado, los operadores y el modelo de transición entre estados. Inspecciona el código con detenimiento. Atendiendo a la implementación disponible, responde de manera razonada a las siguientes cuestiones:\n",
    "\n",
    "- 5.1) Describe qué estructura de datos se utiliza y cómo se ha representado el estado en la implementación dada.\n",
    "- 5.2) ¿Qué operadores (u acciones) puede aplicar el agente inteligente? y ¿Cómo se implementa el modelo de transición (i.e.,  cómo se determinan los operadores aplicables y se lleva a cabo la acción adecuada)? Explícalo brevemente.\n",
    "- 5.3) ¿Dónde se almacena el coste de la solución obtenida? ¿y dónde se almacena los operadores o acciones seguidas para alcanzar el estado meta?\n",
    "- 5.4) Prueba a resolver otra instancia del problema del 8-puzzle no definida anteriormente. ¿Qué instancia has probado? ¿Cuál es el coste del camino de dicha resolución? Incluye el código de tus pruebas en la celda.\n"
   ]
  },
  {
   "cell_type": "markdown",
   "id": "fdb4c197-fad0-4900-bd8f-25d9793f3014",
   "metadata": {},
   "source": [
    "# EJERCICIO 5\n",
    "\n",
    "## 5.1)\n",
    "El estado del tablero se representa mediante una tupla de longitud 9, donde el elemento de índice i representa el número de la ficha en el índice i, o 0 para la ficha no numerada. Por ejemplo, el estado meta: (1,2,3,4,5,6,7,8,9,0).\n",
    "\n",
    "## 5.2)\n",
    "El programa almacena las posiciones a las que se puede mover la ficha no numerada en una tupla de tuplas. Dentro de la tupla principal, hay más tuplas donde cada una almacena el índice al que se puede mover la ficha según la posición en la que se encuentre, coincidiendo con el propio índice de la tupla que le corresponda. Por lo tanto, la función actions() devuelve una lista de índices a los que puede moverse el 0. Para determinar los operadores, se usa la función result(). Esta busca el índice del elemento 0 (ficha no numerada) y cambia su posición (índice) por la posición indicada.\n",
    "\n",
    "## 5.3)\n",
    "En la implementación dada, el costo se almacena en el nodo (variable path_cost). Además, el costo de la solución se puede deducir de la función path_actions(). El costo en este tipo de problemas es simplemente la cantidad de movimientos realizados.\n",
    "En cuanto a los operadores, la función path_actions() reconstruye la secuencia de acciones (movimientos del 0) que llevaron al nodo actual desde el estado inicial. Si el nodo no tiene padre (es el estado inicial), devuelve una lista vacía. Pero si el nodo tiene un padre, concatena la secuencia de acciones desde el nodo inicial hasta su padre con la acción aplicada en el nodo actual.\n",
    "También se almacenan los estados: la función path_states() devuelve la secuencia de estados desde el estado inicial hasta el nodo actual. Si el nodo es None, cutoff o failure (lo que significa que no se encontró solución), devuelve de nuevo la lista vacía. Si no, construye la secuencia de estados recursivamente desde el nodo inicial hasta el actual. Esto es posible porque la clase Node almacena la variable padre, de esta forma puede retroceder en el camino de padres hasta la raíz.\n",
    "\n",
    "## 5.4)"
   ]
  },
  {
   "cell_type": "code",
   "execution_count": null,
   "id": "7df23b0f",
   "metadata": {},
   "outputs": [],
   "source": [
    "ejemplo = EightPuzzle((0, 2, 4, 1, 7, 5, 3, 8, 6))\n",
    "solucion = breadth_first_search(ejemplo)\n",
    "print (f'Coste del camino: {solucion.path_cost:d}')"
   ]
  },
  {
   "cell_type": "markdown",
   "id": "ed32475f-6bc5-42e0-a401-fad4a10ee82e",
   "metadata": {},
   "source": [
    "---\n",
    "<br>"
   ]
  },
  {
   "cell_type": "markdown",
   "id": "3cdda8eb",
   "metadata": {},
   "source": [
    "<!-- ❓ **Pregunta 6**. Prueba a resolver las instancias del problema e1, e2 de nuevo, así como la instancia correspondiente a la configuración inicial A y C. Intenta resolver estas tres instancias con las estrategias `breadth_first_search`, `depth_first_recursive_search` y `depth_limited_search`.  -->\n",
    "\n",
    "6.1) Crea una tabla resumen en [Markdown](https://denshub.com/es/howto-create-table-markdown/) sobre los resultados de las pruebas. Indica la lista de operadores y la longitud del camino solución. \n",
    "\n",
    "6.2) Explica qué pruebas fueron satisfactorias y cuáles no. Explica sobre las dificultades que has encontrado en la resolución de las pruebas, siempre razonando sobre el funcionamiento de los algoritmos."
   ]
  },
  {
   "cell_type": "markdown",
   "id": "c204b4fc-4afe-4dc8-8b72-1f058c4f7159",
   "metadata": {},
   "source": [
    "# EJERCICIO 6\n",
    "\n",
    "## 6.1)\n"
   ]
  },
  {
   "cell_type": "code",
   "execution_count": null,
   "id": "8aeb946e-7213-4c04-946b-043476104267",
   "metadata": {},
   "outputs": [],
   "source": [
    "A = EightPuzzle((1,2,3,4,5,0,7,8,6))\n",
    "C = EightPuzzle((1,2,0,4,5,3,7,8,6))\n",
    "\n",
    "solucion_BFS_A = breadth_first_search(A)\n",
    "solucion_BFS_C = breadth_first_search(C)\n",
    "\n",
    "#solucion_DFRS_A = depth_first_recursive_search(A)\n",
    "#solucion_DFRS_C = depth_first_recursive_search(C)\n",
    "\n",
    "solucion_DLS_A = depth_limited_search(A)\n",
    "solucion_DLS_C = depth_limited_search(C)\n",
    "\n",
    "print (f'Coste del camino BFS A: {solucion_BFS_A.path_cost:d}')\n",
    "print (f'Coste del camino BFS C: {solucion_BFS_C.path_cost:d}')\n",
    "\n",
    "print (f'Lista de acciones BFS A: {path_actions(solucion_BFS_A)}')\n",
    "print (f'Lista de acciones BFS C: {path_actions(solucion_BFS_C)}')\n",
    "\n",
    "#print(\"-----\")\n",
    "\n",
    "#print (f'Coste del camino DFRS A: {solucion_DFRS_A.path_cost:d}')\n",
    "#print (f'Coste del camino DFRS C: {solucion_DFRS_C.path_cost:d}')\n",
    "\n",
    "#print (f'Lista de acciones DFRS A: {path_actions(solucion_DFRS_A)}')\n",
    "#print (f'Lista de acciones DFRS C: {path_actions(solucion_DFRS_C)}')\n",
    "\n",
    "print(\"-----\")\n",
    "\n",
    "print (f'Coste del camino DLS A: {solucion_DLS_A.path_cost:d}')\n",
    "print (f'Coste del camino DLS C: {solucion_DLS_C.path_cost:d}')\n",
    "\n",
    "print (f'Lista de acciones DLS A: {path_actions(solucion_DLS_A)}')\n",
    "print (f'Lista de acciones DLS C: {path_actions(solucion_DLS_C)}')"
   ]
  },
  {
   "cell_type": "markdown",
   "id": "320f74c6-df33-451d-ba84-9a633d5999f9",
   "metadata": {},
   "source": [
    "|             | **LISTA OPERADORES** | **LONGITUD CAMINO** |\n",
    "|:-----------:|:--------------------:|:-------------------:|\n",
    "| **BFS (A)** |           8          |          1          |\n",
    "| **BFS (C)** |         5, 8         |          2          |\n",
    "| **DLS (A)** |           8          |          1          |\n",
    "|  **DLS(C)** |         5, 8         |          2          |\n",
    "| **DFRS (A)** |           -          | máxima recursividad |\n",
    "| **DFRS (C)** |           -          | máxima recursividad |\n",
    "\n",
    "## 6.2)\n",
    "Las pruebas de búsqueda en anchura y en profundidad limitada fueron satisfactorias en ambos casos, mientras que la búsqueda en profundidad limitada ha llegado al límite de recursividad. Esto se debe a que BFS recorre el árbol de soluciones en anchura, por lo tanto, siempre va a encontrar la solución, además, DLS tiene un límite de profundidad, es por eso por lo que no se puede exceder en una búsqueda infinita. Además, Python en sí, tiene un límite de recursividad de 1000 iteraciones. Sin embargo, DFRS tan solo comprueba si entra en ciclos, pero puede estar recorriendo ramas en profundidad infinitamente sin encontrar solución, lo que suponemos que ha pasado en este caso.\n",
    "\n",
    "---\n",
    "<br>"
   ]
  },
  {
   "cell_type": "markdown",
   "id": "89236bd6",
   "metadata": {},
   "source": [
    "## Indicadores y comparación de estrategias\n"
   ]
  },
  {
   "cell_type": "markdown",
   "id": "94e6c521",
   "metadata": {},
   "source": [
    "Ahora que eres capaz de ejecutar diferentes estrategias de búsqueda, podemos proceder a compararlas.\n",
    "\n",
    "Para facilitar esta labor, disponemos de la función `report`, que nos permite obtener el resumen de estadísticas para un algoritmo o estrategia de búsqueda. Para colectar las estadísticas, esta función hace uso de la clase `CountCalls`, que envuelve un objeto `Problem` de tal forma que las llamadas a sus métodos se delegan al problema original a la vez que incrementa un contador.\n",
    "\n",
    "Echa un vistazo al código de esta función y clase."
   ]
  },
  {
   "cell_type": "code",
   "execution_count": null,
   "id": "43363388-0324-4760-8103-257b7f5716f6",
   "metadata": {},
   "outputs": [],
   "source": [
    "psource (report)\n",
    "psource (CountCalls)\n",
    "psource (report_counts)"
   ]
  },
  {
   "cell_type": "markdown",
   "id": "6fd60e9c",
   "metadata": {},
   "source": [
    "Para obtener las estadísticas resultantes de la aplicación de múltiples estrategias a la resolución de un conjunto de instancias del problema, tan solo necesitamos establecer los parámetros de la función `report`.\n",
    "\n",
    "Veamos un ejemplo en el que le indicamos que queremos resolver las instancias e1-e5 utilizando búsqueda en anchura, en profundidad (limitada)."
   ]
  },
  {
   "cell_type": "code",
   "execution_count": null,
   "id": "2b6715a9",
   "metadata": {},
   "outputs": [],
   "source": [
    "report((breadth_first_search,  depth_limited_search), (e1, e2, e3, e4, e5))"
   ]
  },
  {
   "cell_type": "markdown",
   "id": "940375b4",
   "metadata": {},
   "source": [
    "❓ **Pregunta 7**. Ejecuta la comparación de las anteriores estrategias de búsqueda y responde a las siguientes cuestiones de manera justificada en relación a las medidas obtenidas.\n",
    "\n",
    "- 7.1) Explica brevemente qué significan los indicadores *nodes y cost* que muestra la salida de `report`.\n",
    "\n",
    "- 7.2) Discute de manera justificada el rendimiento de los algoritmos en términos del coste del camino/solución y el número de nodos explorados.\n",
    "\n",
    "- 7.3) Crea un conjunto de instancias que puedan resolverse mediante la estrategia búsqueda primero en profundidad, y realiza la comparativa. Discute los resultados.\n"
   ]
  },
  {
   "cell_type": "markdown",
   "id": "0437dcbe-343e-4a06-b138-39a34ae98176",
   "metadata": {},
   "source": [
    "# EJERCICIO 7\n",
    "\n",
    "## 7.1)\n",
    "- **nodes** indica el número total de nodos que el algoritmo ha generado o explorado durante la búsqueda (la suma de los nodos visitados más los nodos en la frontera). Cuantos más nodos explore un algoritmo, más recursos de memoria y tiempo necesitará. \n",
    "- **cost** representa el costo total de la solución encontrada. Esto es igual a la cantidad de movimientos necesarios para llegar desde el estado inicial al estado meta. Si la salida muestra inf cost, significa que la búsqueda no encontró una solución dentro de los límites dados.\n",
    "\n",
    "## 7.2)\n",
    "Se pueden ver diferencias significativas a simple vista entre ambas estrategias de búsqueda: BFS expande muchos más nodos y llega siempre a la solución, mientras que DLS expande muchos menos, pero no es completo, por lo tanto, no asegura que llegará a una solución. Por otra parte, BFS al explorar muchos más nodos, también ocupa mucho más espacio en memoria. Por el contrario, DLS almacena muchos menos y es más eficiente en los casos que llega a la solución.\n",
    "En conclusión, BFS es adecuado para problemas con soluciones a poca profundidad, pero se vuelve ineficiente para espacios de búsqueda muy grandes. Y DLS es útil si se ajusta bien el límite, pero sin un valor adecuado, puede no llegar a encontrar solución.\n",
    "\n",
    "## 7.3)"
   ]
  },
  {
   "cell_type": "code",
   "execution_count": null,
   "id": "f5c79681",
   "metadata": {},
   "outputs": [],
   "source": [
    "#e7 = EightPuzzle((1, 2, 3, 4, 5, 6, 7, 0, 8))\n",
    "#e8 = EightPuzzle((1, 2, 3, 4, 0, 5, 7, 8, 6))\n",
    "#e9 = EightPuzzle((1, 2, 3, 4, 0, 6, 7, 5, 8))\n",
    "\n",
    "#report((breadth_first_search, depth_first_recursive_search, depth_limited_search), (e7, e8, e9))"
   ]
  },
  {
   "cell_type": "markdown",
   "id": "7da59064-0359-4479-a6bd-7bf646820bfa",
   "metadata": {},
   "source": [
    "<p>Encontrar instancias del 8-Puzzle que puedan ser resueltas por el DFRS es muy complicado, lo que indica que no es un algoritmo ni completo ni eficiente. En la mayoría de los casos, la búsqueda en profundidad recursiva falla debido a errores de recursión antes que por alcanzar un límite de profundidad, por lo que no es muy útil. En contraste, DLS maneja mejor estos problemas al evitar la recursión infinita, aunque sigue sin ser un algoritmo completo, ya que no siempre garantiza encontrar una solución si la profundidad límite es inadecuada. Comparado con  BFS, DLS expande menos nodos, lo que le permite gestionar mejor la memoria, pero no asegura una solución óptima ni siquiera la certeza de encontrarla. Por lo tanto, aunque BFS consume más recursos, sigue siendo una mejor opción cuando se necesita una solución garantizada.\n",
    "En conclusión, DFRS funciona bien en casos donde la solución está cerca del inicio. DFRS puede explorar menos nodos que BFS en ciertos casos, pero no garantiza la solución óptima y si el espacio de búsqueda es grande o contiene ciclos, DFS puede fallar o volverse ineficiente.</p>\n",
    "\n",
    "---\n",
    "<br>"
   ]
  },
  {
   "cell_type": "markdown",
   "id": "f2da79a0-22d6-4cc5-af33-d605db7649b8",
   "metadata": {},
   "source": [
    "\n",
    "# El problema de Viajante de Comercio (VC)"
   ]
  },
  {
   "cell_type": "markdown",
   "id": "4d03d1e3",
   "metadata": {},
   "source": [
    "\n",
    "El objetivo de este bloque es modelar e implementar un agente inteligente que sea capaz de resolver\n",
    "el problema del VC mediante estrategias de búsqueda A*, haciendo uso de AIMA como te has familiarizado anteriormente.\n",
    "\n",
    "\n",
    "### Definición del problema\n",
    "\n",
    "El problema del viajante de comercio (VC) es el problema de la persona que quiere vender un producto, y que para ello quiere encontrar el viaje más corto posible a través de las ciudades de los clientes, haciendo una única visita a cada una, empezando y acabando el recorrido en su propia ciudad (recorrido circular desde la ciudad inicial).\n",
    "\n",
    "Típicamente, el problema parte de una representación mediante un grafo ponderado G=(N, A), donde N es el conjunto de n=|N| nodos (ciudades), y siendo A el conjunto de arcos conectando los nodos. Cada arco (i, j) ∈ A tiene asignado un peso d_ij que representa la distancia entre las ciudades i y j.\n",
    "\n",
    "Para facilitar vuestra labor de implementación, os proporcionamos la clase `Localizaciones`, que permite cargar las localizaciones GPS que representan los vértices del grafo G de N ciudades, y permite calcular de manera transparente la distancia entre cualquier par de ciudades usando la fórmula del semiverseno (https://es.wikipedia.org/wiki/F%C3%B3rmula_del_semiverseno), que sirve para calcular las distancias teniendo en cuenta la curvatura de la Tierra.\n"
   ]
  },
  {
   "cell_type": "markdown",
   "id": "3e3dd59f",
   "metadata": {},
   "source": [
    "Inspecciona el código de carga de localizaciones mediante `psource(Localizaciones)`"
   ]
  },
  {
   "cell_type": "code",
   "execution_count": null,
   "id": "9ed45d81",
   "metadata": {},
   "outputs": [],
   "source": [
    "psource (Localizaciones)"
   ]
  },
  {
   "cell_type": "markdown",
   "id": "9cf9c459",
   "metadata": {},
   "source": [
    "Fíjate que por defecto se carga el fichero `./data/grafo8cidades.txt`, que contiene las coordenadas GPS de 8 ciudades gallegas, siendo Santiago de Compostela la primera de ellas. La primera línea de estos ficheros indica el número de ciudades n, mientras que cada una de las líneas sucesivas especifican las coordenadas de cada ciudad, especificadas como coordenadas GPS (latitud y longitud en grados).\n",
    "\n",
    "Fíjate que las distancias en Google Maps van a ser más largas que las nuestras pues nosotros solo tenemos en cuenta la curvatura de la tierra en línea recta mientras que el servicio de mapas toma en cuenta otros aspectos relevantes sobre la existencia de carretera o vía así como otras características geográficas. \n",
    "\n",
    "![8cidades.png](./img/8cidades.png)\n",
    "\n",
    "Puedes cargar otro fichero haciendo uso del parámetro `filename` como se muestra a continuación."
   ]
  },
  {
   "cell_type": "code",
   "execution_count": null,
   "id": "c979674b",
   "metadata": {},
   "outputs": [],
   "source": [
    "g1=Localizaciones(filename='./data/grafo8cidades.txt')\n",
    "print (g1.distancia(0,1))\n",
    "g2=Localizaciones(filename='./data/grafos10_10/grafo_1.txt')\n",
    "print (g2.distancia(0,1))"
   ]
  },
  {
   "cell_type": "markdown",
   "id": "567a01a8",
   "metadata": {},
   "source": [
    "### Implementación del problema VC\n",
    "\n",
    "\n",
    "El VC se reduce al problema de crear el circuito Hamiltoniano de longitud mínima sobre el grafo G. La solución a una instancia del problema del VC puede representarse como una permutación de los índices de las ciudades, donde lo importante es el orden de visita, que determinará el coste del viaje en términos de la distancia recorrida total. \n",
    "\n",
    "De este modo, el problema pertenece a la categoría de problemas NP, pues puede haber n permutaciones que se corresponden al espacio de búsqueda posible. Esto hace que resolver instancias de problemas con muchas ciudades (n grande) haga el problema impracticable y éste pueda beneficiarse de búsquedas informadas, que guíen inteligentemente el proceso para reducir el espacio de búsqueda y por tanto el esfuerzo computacional.\n",
    "\n",
    "Véamos cómo podríamos plantear nuestra implementación del VC. Para hacer la explicación más manejable, supongamos que tomamos las 4 primeras ciudades de nuestro problema de las 8 ciudades gallegas.\n",
    "\n",
    " ![4cidades.png](./img/4cidades.png)\n",
    "\n",
    "\n",
    "En primer lugar necesitamos determinar una representación adecuada de nuestros estados en el espacio de búsqueda. Aunque se puede hacer de varias formas, una forma razonable sería disponer de una tupla cuyos elementos serían los índices de la ciudades según el orden en que han sido visitadas. \n",
    "\n",
    "Por ejemplo, la tupla (0, 1, 3, 2 , 0) representaría un estado que indicaría el siguiente camino: Santiago de Compostela- A Coruña - Lugo - Villalba - Santiago de Compostela. Fíjate que dicho camino es realmente un ciclo, pues la primera y última ciudad son la 0, Santiago de Compostela, y por tanto, podría ser un estado meta. Viendo el mapa de ejemplo, sabemos que pueden haber varios estados meta, y el que sería considerado como solución óptima correspondería a la secuencia (0, 1, 2, 3, 0).\n",
    "\n",
    "Cabe hacerse ahora algunas preguntas clave. ¿Inicialmente dónde estamos y cuántas ciudades hemos visitado? Efectivamente, de partida estaremos en la ciudad 0, y no habremos visitado ninguna otra ciudad todavía, así que podríamos representar nuestro estado inicial como (0,). \n",
    "\n",
    "¿Y si entonces visitamos una segunda ciudad? Pues podríamos ir a A Coruña (1), Villalba (2) o a Lugo (3), lo que daría lugar a los siguientes estados sucesores (0, 1), (0, 2) o (0, 3) respectivamente. \n",
    "\n",
    "Imagina que nuestra estrategia selecciona A Coruña. En ese caso, el estado resultante sería (0, 1). A partir de este, nota que los sucesores serían (0, 1, 2) y/o (0, 1, 3), fruto de considerar las otras dos ciudades que no han sido todavía visitadas. Debes fijarte que en estos casos, los estados representan la secuencia de índices mediante una tupla de forma que se va construyendo paso a paso. Y cabe destacar que sabemos que no son estados meta porque no han visitado todas las ciudades y cerrado el ciclo todavía."
   ]
  },
  {
   "cell_type": "markdown",
   "id": "5181fc17",
   "metadata": {},
   "source": [
    "A continuación mostramos un árbol de búsqueda representando nuestro espacio de búsqueda. Reflexiona lo que representan los nodos y los arcos. En el caso del VC, ¿dónde representarías el coste del camino? Piénsalo, e indicalo en la pregunta 5 cuando explicas tu implementación.\n",
    "\n",
    "![](./img/arbolbusqueda.png)"
   ]
  },
  {
   "cell_type": "markdown",
   "id": "5e2d029a",
   "metadata": {},
   "source": [
    "❓ **Pregunta 8**. Implementa el problema del Viajante de Comercio siguiendo las indicaciones y responde a las cuestiones correspondientes.\n",
    "\n",
    "Tu implementación `ProblemaViajanteComercio` debe extender la clase `Problem` y sobreescribir los métodos `actions, result, is_goal, action_cost` según la representación del estado discutida arriba. \n",
    "Por el momento, considera el grafo de las 8 ciudades gallegas y una implementación nula de la heurística, h=0, puesto que por el momento sólamente vas a utilizar las estrategias de búsqueda no informada o a ciegas. \n",
    "\n",
    "- 8.1) Explica cómo has implementado los operadores así como el modelo de transición que gobierna la expansión o generación de sucesores de los estados en el espacio de búsqueda. Explica brevemente cuáles han sido los aspectos clave en tu implementación de `actions, result, is_goal, action_cost`.\n",
    "- 8.2) Verifica la correctitud de tu implementación resolviendo varias instancias del problema del 8-puzzle mediante las estrategias no informadas vistas en este tutorial. Haz una tabla donde muestres los nodos y el coste del camino obtenido para problema del Viajante de Comercio.\n"
   ]
  },
  {
   "cell_type": "markdown",
   "id": "6eddf458-7ab9-477a-aae3-9100471d5222",
   "metadata": {},
   "source": [
    "# EJERCICIO 8\n",
    "\n",
    "## 8.1)"
   ]
  },
  {
   "cell_type": "code",
   "execution_count": null,
   "id": "7e79b312-52db-4dd7-9e70-fdb1343f4404",
   "metadata": {},
   "outputs": [],
   "source": [
    "class ProblemaViajanteComercio(Problem):\n",
    "    \n",
    "    def __init__(self, initial, filename='./data/grafo8cidades.txt'):\n",
    "        super().__init__(initial)\n",
    "        self.grafo = Localizaciones(filename)\n",
    "        self.nciudades = self.grafo.nciudades\n",
    "        \n",
    "    def actions(self, state):\n",
    "        \"\"\" \n",
    "        Devuelve las ciudades que aún no han sido visitadas.\n",
    "        \"\"\"\n",
    "        no_visitados = set([ciudad for ciudad in self.grafo.tablaciudades.keys() if ciudad not in state])\n",
    "        if no_visitados:\n",
    "            return tuple(no_visitados)\n",
    "        return (state[0], )\n",
    "    \n",
    "    def result(self, state, action):\n",
    "        \"\"\" \n",
    "        Devuelve un nuevo estado añadiendo la ciudad visitada.\n",
    "        \"\"\"\n",
    "        state = list(state)\n",
    "        action_list = list(); action_list.append(action)\n",
    "        return tuple(state + action_list)\n",
    "    \n",
    "    def is_goal(self, state):\n",
    "        \"\"\" \n",
    "        Comprueba si es el estado objetivo (se han recorrido todas las ciudades y se ha vuelto a la inicial).\n",
    "        \"\"\"\n",
    "        return self.grafo.nciudades + 1 == len(state) and state[0] == state[-1]\n",
    "    \n",
    "    def action_cost(self, s, action, s1):\n",
    "        \"\"\" \n",
    "        Devuelve el coste del movimiento (distancia entre las ciudades).\n",
    "        \"\"\"\n",
    "        return self.grafo.distancia(s[-1], action)\n",
    "    \n",
    "    def h(self, node):\n",
    "        \"\"\" \n",
    "        Función heurística (por ahora sin cambios).\n",
    "        \"\"\"\n",
    "        return 0\n",
    "\n",
    "\n",
    "\n",
    "def resolver(instancia_del_problema):\n",
    "    problema = ProblemaViajanteComercio(instancia_del_problema, filename = \"./data/grafo8cidades.txt\")\n",
    "    resultados = list()\n",
    "\n",
    "    # BREADTH FIRST SEARCH\n",
    "    BFS = breadth_first_search(problema)\n",
    "    if BFS:\n",
    "        nodos_recorridos_BFS = len(list(path_states(BFS)))  # Contamos el número de nodos recorridos\n",
    "        resultados.append((\"BFS\", BFS.path_cost, nodos_recorridos_BFS))\n",
    "    else:\n",
    "        resultados.append((\"BFS\", \"No hay\", \"N/A\"))\n",
    "\n",
    "    # DEPTH FIRST RECURSIVE SEARCH\n",
    "    DFRS = depth_first_recursive_search(problema)\n",
    "    if DFRS:\n",
    "        nodos_recorridos_DFRS = len(list(path_states(DFRS)))\n",
    "        resultados.append((\"DFRS\", DFRS.path_cost, nodos_recorridos_DFRS))\n",
    "    else:\n",
    "        resultados.append((\"DFRS\", \"No hay\", \"N/A\"))\n",
    "\n",
    "    # DEPTH LIMITED SEARCH\n",
    "    DLS = depth_limited_search(problema, 30)\n",
    "    if DLS:\n",
    "        nodos_recorridos_DLS = len(list(path_states(DLS)))\n",
    "        resultados.append((\"DLS\", DLS.path_cost, nodos_recorridos_DLS))\n",
    "    else:\n",
    "        resultados.append((\"DLS\", \"No hay\", \"N/A\"))\n",
    "\n",
    "    # Imprimimos los resultados\n",
    "    print(f\"Resultados de la instancia del problema: {instancia_del_problema}\")\n",
    "    print(\"| Búsqueda | Costo de la solución | Número de nodos recorridos |\")\n",
    "    print(\"|----------|----------------------|----------------------------|\")\n",
    "    for busqueda, coste_sol, num_nodos in resultados:\n",
    "        print(f\"|   {busqueda}   |    {coste_sol}    |             {num_nodos}             |\")\n",
    "    print(\"\\n\")"
   ]
  },
  {
   "cell_type": "markdown",
   "id": "63d3837c-a3e1-4590-b0b6-e4cdd3864270",
   "metadata": {},
   "source": [
    "- **is_goal**: esta función comprueba si se ha alcanzado el estado objetivo en el problema, confirmando que se han visitado todas las ciudades y se ha regresado al punto inicial. Comprueba que el número de ciudades en el estado sea igual al total de ciudades más una (incluyendo el retorno) y que la primera y última ciudad coincidan, asegurando el recorrido correcto.\n",
    "\n",
    "- **action_cost**: calcula el costo de una acción, que en este caso es la distancia entre la última ciudad visitada y la nueva ciudad a visitar. Utiliza la estructura del grafo para obtener esta distancia.\n",
    "\n",
    "- **actions**: determina las ciudades no visitadas desde el estado actual y las devuelve como acciones posibles. Accede a todas las ciudades disponibles en el grafo, filtra las ya recorridas y genera un conjunto de opciones válidas. Si quedan ciudades por visitar, las retorna como una tupla, si no, permite solo el retorno al inicio. Esto evita movimientos redundantes, optimiza la búsqueda y asegura un recorrido completo en el problema.\n",
    "\n",
    "- **result**: actualiza el estado del problema tras una acción, añadiendo la nueva ciudad visitada. Convierte el estado en una lista, agrega la acción (nueva ciudad) y lo devuelve como una tupla, preservando la secuencia de visitas."
   ]
  },
  {
   "cell_type": "markdown",
   "id": "3f9ec494-6f77-42d4-a493-b3c8802f9c9b",
   "metadata": {},
   "source": [
    "## 8.2)"
   ]
  },
  {
   "cell_type": "code",
   "execution_count": null,
   "id": "d28f4005",
   "metadata": {},
   "outputs": [],
   "source": [
    "instancia_1 = (0, ); resolver(instancia_1)\n",
    "instancia_2 = (1, ); resolver(instancia_2)\n",
    "instancia_3 = (2, ); resolver(instancia_3)"
   ]
  },
  {
   "cell_type": "markdown",
   "id": "2c23e927",
   "metadata": {},
   "source": [
    "---\n",
    "<br>"
   ]
  },
  {
   "cell_type": "markdown",
   "id": "7f65f96d",
   "metadata": {},
   "source": [
    "# Respuestas a los ejercicios y evaluación"
   ]
  },
  {
   "cell_type": "markdown",
   "id": "03c8cdc2",
   "metadata": {},
   "source": [
    "**RECUERDA:** No te olvides de escribir tu nombre y apellidos en la segunda celda del presente documento."
   ]
  },
  {
   "cell_type": "markdown",
   "id": "0f7b1cdf",
   "metadata": {},
   "source": [
    "Incluye las celdas que consideres oportunas para que sea legible. Incluye la formulación de las preguntas para una mejor comprensión y facilitar su corrección.\n",
    "\n",
    "La práctica se evaluará mediante un cuestionario automático de evaluación. El cuestionario automático de evaluación se realiza normalmente en la primera sesión de la próxima práctica, y se centrará en la resolución por tu parte de diversas cuestiones prácticas relacionadas tanto con los aspectos conceptuales como de implementación de tu práctica, pudiendo ser necesaria la ejecución, adaptación y modificación de la misma durante la duración de la prueba. \n",
    "\n",
    "Independientemente del cuestionario automático de evaluación, las preguntas planteadas deben responderse en el notebook de manera clara y precisa. Esas preguntas generales están diseñadas para formarte, y te servirán para razonar y reflexionar sobre el tema, así como también para fomentar una discusión constructiva con los docentes durante las sesiones. No se dará por superada la práctica si las respuestas en el notebook no son adecuadas. \n",
    "\n",
    "Recuerda que el plagio/copia completa o parcial de prácticas de otros compañeros acarrea no solo el suspenso de la práctica en curso sino también de la asignatura en dos convocatorias."
   ]
  },
  {
   "cell_type": "markdown",
   "id": "09ed9819",
   "metadata": {},
   "source": [
    "**************************************************************"
   ]
  }
 ],
 "metadata": {
  "kernelspec": {
   "display_name": "Python 3 (ipykernel)",
   "language": "python",
   "name": "python3"
  },
  "language_info": {
   "codemirror_mode": {
    "name": "ipython",
    "version": 3
   },
   "file_extension": ".py",
   "mimetype": "text/x-python",
   "name": "python",
   "nbconvert_exporter": "python",
   "pygments_lexer": "ipython3",
   "version": "3.11.10"
  }
 },
 "nbformat": 4,
 "nbformat_minor": 5
}
