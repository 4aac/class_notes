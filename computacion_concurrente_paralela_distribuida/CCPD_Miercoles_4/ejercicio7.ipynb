{
 "cells": [
  {
   "cell_type": "markdown",
   "id": "af4b687e",
   "metadata": {},
   "source": [
    "## Ejercicio 7"
   ]
  },
  {
   "cell_type": "code",
   "execution_count": 9,
   "id": "207943ea",
   "metadata": {},
   "outputs": [],
   "source": [
    "import time\n",
    "from memory_profiler import memory_usage\n",
    "import cProfile\n",
    "import matplotlib\n",
    "import time\n",
    "import matplotlib.pyplot as plt"
   ]
  },
  {
   "cell_type": "code",
   "execution_count": 3,
   "id": "fa3ccc46",
   "metadata": {},
   "outputs": [],
   "source": [
    "#con bucle tradicional\n",
    "def cuadrados(N):\n",
    "    paresCuadrados=[]\n",
    "    for i in range(1, N*2+1) :\n",
    "        if i%2==0: #si son pares\n",
    "            paresCuadrados.append(i**2) #ñadimos su cuadrado\n",
    "    return (paresCuadrados)"
   ]
  },
  {
   "cell_type": "code",
   "execution_count": 4,
   "id": "65bd4b00",
   "metadata": {},
   "outputs": [],
   "source": [
    "#con comprension de listas\n",
    "\n",
    "def cuadradosC(N):\n",
    "    paresCuadrados=[i**2 for i in range(1, N*2+1) if i%2==0]\n",
    "    return paresCuadrados"
   ]
  },
  {
   "cell_type": "code",
   "execution_count": 5,
   "id": "a7cbd823",
   "metadata": {},
   "outputs": [
    {
     "name": "stdout",
     "output_type": "stream",
     "text": [
      "The time used to execute this is: 0.01912665367126465\n"
     ]
    }
   ],
   "source": [
    "start = time.time()\n",
    "a=cuadrados(50000)\n",
    "end = time.time()\n",
    "print(f\"The time used to execute this is: {end-start}\")"
   ]
  },
  {
   "cell_type": "code",
   "execution_count": 6,
   "id": "78c604d5",
   "metadata": {},
   "outputs": [
    {
     "name": "stdout",
     "output_type": "stream",
     "text": [
      "The time used to execute this is: 0.016077041625976562\n"
     ]
    }
   ],
   "source": [
    "start = time.time()\n",
    "b=cuadradosC(50000)\n",
    "end = time.time()\n",
    "print(f\"The time used to execute this is: {end-start}\")"
   ]
  },
  {
   "cell_type": "markdown",
   "id": "ccf7d6c3",
   "metadata": {},
   "source": [
    "### Para distintos valores de N"
   ]
  },
  {
   "cell_type": "code",
   "execution_count": 47,
   "id": "14df54d8",
   "metadata": {},
   "outputs": [
    {
     "name": "stdout",
     "output_type": "stream",
     "text": [
      "\n",
      "Método tradicional\n",
      "\n",
      "Tiempo de ejecución: 0.005025625228881836 con N = 10000\n",
      "\n",
      "Listas de comprensión\n",
      "\n",
      "Tiempo de ejecución: 0.0 con N = 10000\n",
      "\n",
      "Método tradicional\n",
      "\n",
      "Tiempo de ejecución: 0.0 con N = 20000\n",
      "\n",
      "Listas de comprensión\n",
      "\n",
      "Tiempo de ejecución: 0.015096187591552734 con N = 20000\n",
      "\n",
      "Método tradicional\n",
      "\n",
      "Tiempo de ejecución: 0.031368255615234375 con N = 70000\n",
      "\n",
      "Listas de comprensión\n",
      "\n",
      "Tiempo de ejecución: 0.03268027305603027 con N = 70000\n",
      "\n",
      "Método tradicional\n",
      "\n",
      "Tiempo de ejecución: 0.04740285873413086 con N = 100000\n",
      "\n",
      "Listas de comprensión\n",
      "\n",
      "Tiempo de ejecución: 0.036769866943359375 con N = 100000\n",
      "\n",
      "Método tradicional\n",
      "\n",
      "Tiempo de ejecución: 0.04851722717285156 con N = 120000\n",
      "\n",
      "Listas de comprensión\n",
      "\n",
      "Tiempo de ejecución: 0.04732227325439453 con N = 120000\n",
      "\n",
      "Método tradicional\n",
      "\n",
      "Tiempo de ejecución: 0.1007375717163086 con N = 170000\n",
      "\n",
      "Listas de comprensión\n",
      "\n",
      "Tiempo de ejecución: 0.0644235610961914 con N = 170000\n",
      "\n",
      "Método tradicional\n",
      "\n",
      "Tiempo de ejecución: 0.6139974594116211 con N = 1000000\n",
      "\n",
      "Listas de comprensión\n",
      "\n",
      "Tiempo de ejecución: 0.45681047439575195 con N = 1000000\n",
      "\n",
      "Método tradicional\n",
      "\n",
      "Tiempo de ejecución: 0.5961551666259766 con N = 1200000\n",
      "\n",
      "Listas de comprensión\n",
      "\n",
      "Tiempo de ejecución: 0.5496566295623779 con N = 1200000\n",
      "\n",
      "Método tradicional\n",
      "\n",
      "Tiempo de ejecución: 0.8550300598144531 con N = 1700000\n",
      "\n",
      "Listas de comprensión\n",
      "\n",
      "Tiempo de ejecución: 0.7639544010162354 con N = 1700000\n"
     ]
    }
   ],
   "source": [
    "ene=[10000, 20000, 70000, 100000, 120000, 170000, 1000000, 1200000, 1700000]\n",
    "tMT=[] #tiempos metodo tradicional\n",
    "tLC=[] #tiempos listas por comprensión\n",
    "for i in ene: \n",
    "    for j in range(1,6): #para realizar varias pruebas (5) con la misma N\n",
    "        PMT=[] #pruebas metodo tradicional\n",
    "        PLC=[] #pruebas listas de comprensión\n",
    "\n",
    "        startMT = time.time()\n",
    "        cuadrados(i)\n",
    "        endMT = time.time()\n",
    "        PMT.append(endMT-startMT)\n",
    "        \n",
    "        startLC = time.time()\n",
    "        cuadradosC(i)\n",
    "        endLC = time.time()\n",
    "        PLC.append(endLC-startLC)\n",
    "        \n",
    "    print()\n",
    "    print('Método tradicional')\n",
    "    print()\n",
    "    a=sum(PMT)/len(PMT)\n",
    "    print(f\"Tiempo de ejecución: {a} con N = {i}\")\n",
    "    tMT.append(a)\n",
    "    print()\n",
    "    print('Listas de comprensión')\n",
    "    print()\n",
    "    b=sum(PLC)/len(PLC)\n",
    "    print(f\"Tiempo de ejecución: {b} con N = {i}\")\n",
    "    tLC.append(b)"
   ]
  },
  {
   "cell_type": "code",
   "execution_count": 48,
   "id": "7bad031b",
   "metadata": {},
   "outputs": [
    {
     "data": {
      "image/png": "[encoded data removed]",
      "text/plain": [
       "<Figure size 800x600 with 1 Axes>"
      ]
     },
     "metadata": {},
     "output_type": "display_data"
    }
   ],
   "source": [
    "plt.figure(figsize=(8, 6))\n",
    "plt.plot(tMT, ene, marker='o', linestyle='-', color='yellow', label=\"Metodo tradicional\")\n",
    "plt.plot(tLC, ene, marker='o', linestyle='-', color='purple', label=\"Listas por comprension\")\n",
    "\n",
    "plt.xlim(0, 1) \n",
    "plt.ylim(10000, max(ene))  \n",
    "\n",
    "plt.xlabel(\"tiempos\")\n",
    "plt.ylabel(\"N\")\n",
    "plt.title(\"Comparación métodos\")\n",
    "plt.yscale(\"log\")  \n",
    "\n",
    "plt.legend()\n",
    "plt.show()"
   ]
  },
  {
   "cell_type": "markdown",
   "id": "33199caa",
   "metadata": {},
   "source": [
    "## Conclusiones\n",
    "\n",
    "Observamos en la gráfica una mejora por parte de las listas de comprensión en cuanto a tiempo de ejecución"
   ]
  }
 ],
 "metadata": {
  "kernelspec": {
   "display_name": "Python 3 (ipykernel)",
   "language": "python",
   "name": "python3"
  },
  "language_info": {
   "codemirror_mode": {
    "name": "ipython",
    "version": 3
   },
   "file_extension": ".py",
   "mimetype": "text/x-python",
   "name": "python",
   "nbconvert_exporter": "python",
   "pygments_lexer": "ipython3",
   "version": "3.11.5"
  }
 },
 "nbformat": 4,
 "nbformat_minor": 5
}
