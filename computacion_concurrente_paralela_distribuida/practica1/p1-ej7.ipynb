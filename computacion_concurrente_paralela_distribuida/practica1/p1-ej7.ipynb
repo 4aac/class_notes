{
 "cells": [
  {
   "cell_type": "markdown",
   "id": "af4b687e",
   "metadata": {},
   "source": [
    "## Ejercicio 7"
   ]
  },
  {
   "cell_type": "code",
   "execution_count": 1,
   "id": "207943ea",
   "metadata": {},
   "outputs": [],
   "source": [
    "import time\n",
    "from memory_profiler import memory_usage\n",
    "import cProfile\n",
    "import matplotlib"
   ]
  },
  {
   "cell_type": "code",
   "execution_count": 2,
   "id": "fa3ccc46",
   "metadata": {},
   "outputs": [],
   "source": [
    "#con bucle tradicional\n",
    "def cuadrados(N):\n",
    "    paresCuadrados=[]\n",
    "    for i in range(1, N*2+1) :\n",
    "        if i%2==0: #si son pares\n",
    "            paresCuadrados.append(i**2) #ñadimos su cuadrado\n",
    "    return (paresCuadrados)"
   ]
  },
  {
   "cell_type": "code",
   "execution_count": 3,
   "id": "65bd4b00",
   "metadata": {},
   "outputs": [],
   "source": [
    "#con comprension de listas\n",
    "\n",
    "def cuadradosC(N):\n",
    "    paresCuadrados=[i**2 for i in range(1, N*2+1) if i%2==0]\n",
    "    return paresCuadrados"
   ]
  },
  {
   "cell_type": "code",
   "execution_count": 4,
   "id": "a7cbd823",
   "metadata": {},
   "outputs": [
    {
     "name": "stdout",
     "output_type": "stream",
     "text": [
      "The time used to execute this is: 0.019369125366210938\n"
     ]
    }
   ],
   "source": [
    "start = time.time()\n",
    "a=cuadrados(50000)\n",
    "end = time.time()\n",
    "print(f\"The time used to execute this is: {end-start}\")"
   ]
  },
  {
   "cell_type": "code",
   "execution_count": 5,
   "id": "78c604d5",
   "metadata": {},
   "outputs": [
    {
     "name": "stdout",
     "output_type": "stream",
     "text": [
      "The time used to execute this is: 0.01672053337097168\n"
     ]
    }
   ],
   "source": [
    "start = time.time()\n",
    "b=cuadradosC(50000)\n",
    "end = time.time()\n",
    "print(f\"The time used to execute this is: {end-start}\")"
   ]
  },
  {
   "cell_type": "markdown",
   "id": "ccf7d6c3",
   "metadata": {},
   "source": [
    "### Para distintos valores de N"
   ]
  },
  {
   "cell_type": "code",
   "execution_count": 7,
   "id": "14df54d8",
   "metadata": {},
   "outputs": [
    {
     "name": "stdout",
     "output_type": "stream",
     "text": [
      "\n",
      "Método tradicional\n",
      "\n",
      "Tiempo de ejecución: 0.0 con N = 10\n",
      "\n",
      "Listas comprimidas\n",
      "\n",
      "Tiempo de ejecución: 0.0 con N = 10\n",
      "\n",
      "Método tradicional\n",
      "\n",
      "Tiempo de ejecución: 0.0 con N = 100\n",
      "\n",
      "Listas comprimidas\n",
      "\n",
      "Tiempo de ejecución: 0.0 con N = 100\n",
      "\n",
      "Método tradicional\n",
      "\n",
      "Tiempo de ejecución: 0.0 con N = 1000\n",
      "\n",
      "Listas comprimidas\n",
      "\n",
      "Tiempo de ejecución: 0.001355886459350586 con N = 1000\n",
      "\n",
      "Método tradicional\n",
      "\n",
      "Tiempo de ejecución: 0.003515958786010742 con N = 10000\n",
      "\n",
      "Listas comprimidas\n",
      "\n",
      "Tiempo de ejecución: 0.002000570297241211 con N = 10000\n",
      "\n",
      "Método tradicional\n",
      "\n",
      "Tiempo de ejecución: 0.0442652702331543 con N = 100000\n",
      "\n",
      "Listas comprimidas\n",
      "\n",
      "Tiempo de ejecución: 0.03900146484375 con N = 100000\n",
      "\n",
      "Método tradicional\n",
      "\n",
      "Tiempo de ejecución: 0.48265647888183594 con N = 1000000\n",
      "\n",
      "Listas comprimidas\n",
      "\n",
      "Tiempo de ejecución: 0.4370608329772949 con N = 1000000\n",
      "\n",
      "Método tradicional\n",
      "\n",
      "Tiempo de ejecución: 4.900287628173828 con N = 10000000\n",
      "\n",
      "Listas comprimidas\n",
      "\n",
      "Tiempo de ejecución: 4.673556566238403 con N = 10000000\n"
     ]
    }
   ],
   "source": [
    "ene=[10, 100, 1000, 10000, 100000, 1000000, 10000000]\n",
    "for i in ene: \n",
    "    print()\n",
    "    print('Método tradicional')\n",
    "    print()\n",
    "    start = time.time()\n",
    "    cuadrados(i)\n",
    "    end = time.time()\n",
    "    print(f\"Tiempo de ejecución: {end-start} con N = {i}\")\n",
    "    print()\n",
    "    print('Listas comprimidas')\n",
    "    print()\n",
    "    start = time.time()\n",
    "    cuadradosC(i)\n",
    "    end = time.time()\n",
    "    print(f\"Tiempo de ejecución: {end-start} con N = {i}\")"
   ]
  },
  {
   "cell_type": "markdown",
   "id": "3d73b6bb",
   "metadata": {},
   "source": [
    "## Conclusiones"
   ]
  },
  {
   "cell_type": "markdown",
   "id": "02c675e0",
   "metadata": {},
   "source": [
    "es más eficiente el método con listas comprimidas, el append baja mucho la eficiencia en el método tradicional y al final ambos métodos ocupan los mismo en memoria. \n",
    "Es algo mas rápido el método con listas comprimidas."
   ]
  },
  {
   "cell_type": "code",
   "execution_count": null,
   "id": "4816e6b6",
   "metadata": {},
   "outputs": [],
   "source": []
  }
 ],
 "metadata": {
  "kernelspec": {
   "display_name": "Python 3 (ipykernel)",
   "language": "python",
   "name": "python3"
  },
  "language_info": {
   "codemirror_mode": {
    "name": "ipython",
    "version": 3
   },
   "file_extension": ".py",
   "mimetype": "text/x-python",
   "name": "python",
   "nbconvert_exporter": "python",
   "pygments_lexer": "ipython3",
   "version": "3.11.5"
  }
 },
 "nbformat": 4,
 "nbformat_minor": 5
}
